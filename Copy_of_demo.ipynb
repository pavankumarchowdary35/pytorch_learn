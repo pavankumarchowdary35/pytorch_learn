{
  "nbformat": 4,
  "nbformat_minor": 0,
  "metadata": {
    "colab": {
      "provenance": [],
      "include_colab_link": true
    },
    "kernelspec": {
      "name": "python3",
      "display_name": "Python 3"
    },
    "language_info": {
      "name": "python"
    },
    "accelerator": "GPU"
  },
  "cells": [
    {
      "cell_type": "markdown",
      "metadata": {
        "id": "view-in-github",
        "colab_type": "text"
      },
      "source": [
        "<a href=\"https://colab.research.google.com/github/pavankumarchowdary35/pytorch_learn/blob/main/Copy_of_demo.ipynb\" target=\"_parent\"><img src=\"https://colab.research.google.com/assets/colab-badge.svg\" alt=\"Open In Colab\"/></a>"
      ]
    },
    {
      "cell_type": "code",
      "execution_count": null,
      "metadata": {
        "id": "aQ0NhoLZp00E"
      },
      "outputs": [],
      "source": [
        "import os\n",
        "ROOT = \"/content/drive/MyDrive/001_SUNNY_BHAVEEN_CHANDRA/001_My_Classes/FSDS_Feb_Batch/ALL_NOTES/Day-Pytorch-CNN\"\n",
        "os.chdir(ROOT)"
      ]
    },
    {
      "cell_type": "code",
      "source": [
        "!pwd"
      ],
      "metadata": {
        "colab": {
          "base_uri": "https://localhost:8080/"
        },
        "id": "OQ2R1CKlq_KP",
        "outputId": "ef5c7893-1075-419c-9316-1fde1bea9dc3"
      },
      "execution_count": null,
      "outputs": [
        {
          "output_type": "stream",
          "name": "stdout",
          "text": [
            "/content/drive/MyDrive/001_SUNNY_BHAVEEN_CHANDRA/001_My_Classes/FSDS_Feb_Batch/ALL_NOTES/Day-Pytorch-CNN\n"
          ]
        }
      ]
    },
    {
      "cell_type": "code",
      "source": [
        "!ls"
      ],
      "metadata": {
        "colab": {
          "base_uri": "https://localhost:8080/"
        },
        "id": "ugIvhD3HrAn1",
        "outputId": "88ff002e-6ec9-47dd-8d7e-7a45b996853e"
      },
      "execution_count": null,
      "outputs": [
        {
          "output_type": "stream",
          "name": "stdout",
          "text": [
            "'Copy of demo.ipynb'   demo.ipynb   FashionMNISTDir\n"
          ]
        }
      ]
    },
    {
      "cell_type": "code",
      "source": [
        "import os\n",
        "import numpy as np\n",
        "import matplotlib.pyplot as plt\n",
        "import seaborn as sns\n",
        "import pandas as pd\n",
        "import torch\n",
        "import torch.nn as nn\n",
        "from torch.utils.data import DataLoader\n",
        "from torchvision import transforms, datasets\n",
        "import torch.nn.functional as F\n",
        "from sklearn.metrics import confusion_matrix\n",
        "from tqdm import tqdm"
      ],
      "metadata": {
        "id": "P7a8B9xErCE1"
      },
      "execution_count": null,
      "outputs": []
    },
    {
      "cell_type": "code",
      "source": [
        "class Config:\n",
        "  def __init__(self):\n",
        "    self.ROOT_DATA_DIR = \"FashionMNISTDir\"\n",
        "    self.EPOCH = 10\n",
        "    self.BATCH_SIZE = 32\n",
        "    self.LEARNING_RATE = 0.01\n",
        "    self.IMAGE_SIZE = (28, 28)\n",
        "    self.DEVICE = \"cuda\" if torch.cuda.is_available() else \"cpu\"\n",
        "    print(f\"this notebook is using device: {self.DEVICE}\")\n",
        "    self.SEED = 2022\n",
        "\n",
        "config = Config()"
      ],
      "metadata": {
        "colab": {
          "base_uri": "https://localhost:8080/"
        },
        "id": "HNHLKpORrMS_",
        "outputId": "f0d7822a-9de4-4713-ebe6-6768087b9f8a"
      },
      "execution_count": null,
      "outputs": [
        {
          "output_type": "stream",
          "name": "stdout",
          "text": [
            "this notebook is using device: cuda\n"
          ]
        }
      ]
    },
    {
      "cell_type": "code",
      "source": [
        "train_data = datasets.FashionMNIST(\n",
        "    root = config.ROOT_DATA_DIR,\n",
        "    train = True,\n",
        "    download = True,\n",
        "    transform = transforms.ToTensor()\n",
        ")\n",
        "\n",
        "test_data = datasets.FashionMNIST(\n",
        "    root = config.ROOT_DATA_DIR,\n",
        "    train = False,\n",
        "    download = True,\n",
        "    transform = transforms.ToTensor()\n",
        ")"
      ],
      "metadata": {
        "id": "1WktFbXRrXFe"
      },
      "execution_count": null,
      "outputs": []
    },
    {
      "cell_type": "code",
      "source": [
        "train_data.data.shape"
      ],
      "metadata": {
        "colab": {
          "base_uri": "https://localhost:8080/"
        },
        "id": "pf-XLXqksJpc",
        "outputId": "855a210c-c756-43a9-a39f-67e0ef67465c"
      },
      "execution_count": null,
      "outputs": [
        {
          "output_type": "execute_result",
          "data": {
            "text/plain": [
              "torch.Size([60000, 28, 28])"
            ]
          },
          "metadata": {},
          "execution_count": 8
        }
      ]
    },
    {
      "cell_type": "code",
      "source": [
        "test_data.data.shape\n"
      ],
      "metadata": {
        "colab": {
          "base_uri": "https://localhost:8080/"
        },
        "id": "mZiOmW09s-R1",
        "outputId": "03e09f1c-12be-4988-921b-a8102b33d8ca"
      },
      "execution_count": null,
      "outputs": [
        {
          "output_type": "execute_result",
          "data": {
            "text/plain": [
              "torch.Size([10000, 28, 28])"
            ]
          },
          "metadata": {},
          "execution_count": 9
        }
      ]
    },
    {
      "cell_type": "code",
      "source": [
        "train_data.class_to_idx"
      ],
      "metadata": {
        "colab": {
          "base_uri": "https://localhost:8080/"
        },
        "id": "PE3ZuHv_tApr",
        "outputId": "eeb5a571-6048-4cfa-ee11-a726d8fcb15b"
      },
      "execution_count": null,
      "outputs": [
        {
          "output_type": "execute_result",
          "data": {
            "text/plain": [
              "{'Ankle boot': 9,\n",
              " 'Bag': 8,\n",
              " 'Coat': 4,\n",
              " 'Dress': 3,\n",
              " 'Pullover': 2,\n",
              " 'Sandal': 5,\n",
              " 'Shirt': 6,\n",
              " 'Sneaker': 7,\n",
              " 'T-shirt/top': 0,\n",
              " 'Trouser': 1}"
            ]
          },
          "metadata": {},
          "execution_count": 10
        }
      ]
    },
    {
      "cell_type": "code",
      "source": [
        "train_data.targets"
      ],
      "metadata": {
        "colab": {
          "base_uri": "https://localhost:8080/"
        },
        "id": "478ESUkstKRT",
        "outputId": "e0e63cb1-070c-4092-f9e0-d3e9d3548a1d"
      },
      "execution_count": null,
      "outputs": [
        {
          "output_type": "execute_result",
          "data": {
            "text/plain": [
              "tensor([9, 0, 0,  ..., 3, 0, 5])"
            ]
          },
          "metadata": {},
          "execution_count": 11
        }
      ]
    },
    {
      "cell_type": "code",
      "source": [
        "given_label_map = train_data.class_to_idx\n",
        "given_label_map"
      ],
      "metadata": {
        "colab": {
          "base_uri": "https://localhost:8080/"
        },
        "id": "Gm9t1pcFtRm8",
        "outputId": "8d860303-1b89-4c81-efba-4382c3b1b8fb"
      },
      "execution_count": null,
      "outputs": [
        {
          "output_type": "execute_result",
          "data": {
            "text/plain": [
              "{'Ankle boot': 9,\n",
              " 'Bag': 8,\n",
              " 'Coat': 4,\n",
              " 'Dress': 3,\n",
              " 'Pullover': 2,\n",
              " 'Sandal': 5,\n",
              " 'Shirt': 6,\n",
              " 'Sneaker': 7,\n",
              " 'T-shirt/top': 0,\n",
              " 'Trouser': 1}"
            ]
          },
          "metadata": {},
          "execution_count": 12
        }
      ]
    },
    {
      "cell_type": "code",
      "source": [
        "label_map = {val: key for key, val in given_label_map.items()}\n",
        "label_map"
      ],
      "metadata": {
        "colab": {
          "base_uri": "https://localhost:8080/"
        },
        "id": "zg5StYMetoal",
        "outputId": "d7509636-c669-4bb4-d99c-609f3bb38cf9"
      },
      "execution_count": null,
      "outputs": [
        {
          "output_type": "execute_result",
          "data": {
            "text/plain": [
              "{0: 'T-shirt/top',\n",
              " 1: 'Trouser',\n",
              " 2: 'Pullover',\n",
              " 3: 'Dress',\n",
              " 4: 'Coat',\n",
              " 5: 'Sandal',\n",
              " 6: 'Shirt',\n",
              " 7: 'Sneaker',\n",
              " 8: 'Bag',\n",
              " 9: 'Ankle boot'}"
            ]
          },
          "metadata": {},
          "execution_count": 13
        }
      ]
    },
    {
      "cell_type": "markdown",
      "source": [
        "## Visualize one of the samples"
      ],
      "metadata": {
        "id": "ObOyQsE5t8zr"
      }
    },
    {
      "cell_type": "code",
      "source": [
        "def view_sample_img(data, idx, label_map):\n",
        "  plt.imshow(data.data[idx], cmap=\"gray\")\n",
        "  plt.title(f\"data label: {label_map[data.targets[idx].item()]}\")\n",
        "  plt.axis(\"off\")\n",
        "\n",
        "view_sample_img(train_data, 7, label_map)"
      ],
      "metadata": {
        "colab": {
          "base_uri": "https://localhost:8080/",
          "height": 264
        },
        "id": "bv_rU9cCt3sj",
        "outputId": "7cd1ace2-be8d-4888-be67-708b0fe299dc"
      },
      "execution_count": null,
      "outputs": [
        {
          "output_type": "display_data",
          "data": {
            "text/plain": [
              "<Figure size 432x288 with 1 Axes>"
            ],
            "image/png": "[encoded data removed]"
          },
          "metadata": {
            "needs_background": "light"
          }
        }
      ]
    },
    {
      "cell_type": "markdown",
      "source": [
        "## Create the dataloader"
      ],
      "metadata": {
        "id": "vHkuh8GFvGCi"
      }
    },
    {
      "cell_type": "code",
      "source": [
        "train_data_loader = DataLoader(\n",
        "    dataset = train_data,\n",
        "    batch_size = config.BATCH_SIZE,\n",
        "    shuffle = True\n",
        ")\n",
        "\n",
        "test_data_loader = DataLoader(\n",
        "    dataset = test_data,\n",
        "    batch_size = config.BATCH_SIZE,\n",
        "    shuffle = False\n",
        ")"
      ],
      "metadata": {
        "id": "ZaidkURJuHQL"
      },
      "execution_count": null,
      "outputs": []
    },
    {
      "cell_type": "code",
      "source": [
        "for images, labels in train_data_loader:\n",
        "  print(images.shape)\n",
        "  print(labels.shape)\n",
        "  break"
      ],
      "metadata": {
        "colab": {
          "base_uri": "https://localhost:8080/"
        },
        "id": "bXnEsD1UveQY",
        "outputId": "edb55533-d9d3-4434-965d-42725034bce5"
      },
      "execution_count": null,
      "outputs": [
        {
          "output_type": "stream",
          "name": "stdout",
          "text": [
            "torch.Size([32, 1, 28, 28])\n",
            "torch.Size([32])\n"
          ]
        }
      ]
    },
    {
      "cell_type": "code",
      "source": [
        "images[0].shape"
      ],
      "metadata": {
        "colab": {
          "base_uri": "https://localhost:8080/"
        },
        "id": "KfCxMOg6vupb",
        "outputId": "405b66de-8654-4c9e-af51-d98308b229f7"
      },
      "execution_count": null,
      "outputs": [
        {
          "output_type": "execute_result",
          "data": {
            "text/plain": [
              "torch.Size([1, 28, 28])"
            ]
          },
          "metadata": {},
          "execution_count": 17
        }
      ]
    },
    {
      "cell_type": "code",
      "source": [
        "images[0].squeeze().shape"
      ],
      "metadata": {
        "colab": {
          "base_uri": "https://localhost:8080/"
        },
        "id": "YNPBeELzwOJ6",
        "outputId": "fbe5bdef-afb2-4191-dbfa-1fc665ea29f1"
      },
      "execution_count": null,
      "outputs": [
        {
          "output_type": "execute_result",
          "data": {
            "text/plain": [
              "torch.Size([28, 28])"
            ]
          },
          "metadata": {},
          "execution_count": 18
        }
      ]
    },
    {
      "cell_type": "code",
      "source": [
        "images[0].squeeze().numpy()"
      ],
      "metadata": {
        "colab": {
          "base_uri": "https://localhost:8080/"
        },
        "id": "CbobFJhowhW7",
        "outputId": "30569ae8-e028-451b-ab53-ca005e57af5e"
      },
      "execution_count": null,
      "outputs": [
        {
          "output_type": "execute_result",
          "data": {
            "text/plain": [
              "array([[0.        , 0.        , 0.        , 0.        , 0.        ,\n",
              "        0.        , 0.        , 0.        , 0.        , 0.        ,\n",
              "        0.        , 0.        , 0.22745098, 0.7058824 , 0.4392157 ,\n",
              "        0.5529412 , 0.20784314, 0.        , 0.        , 0.        ,\n",
              "        0.        , 0.        , 0.        , 0.        , 0.        ,\n",
              "        0.        , 0.        , 0.        ],\n",
              "       [0.        , 0.        , 0.        , 0.        , 0.        ,\n",
              "        0.        , 0.        , 0.        , 0.        , 0.        ,\n",
              "        0.37254903, 0.8980392 , 0.8039216 , 0.7411765 , 0.7607843 ,\n",
              "        0.6862745 , 0.74509805, 0.9882353 , 0.20392157, 0.        ,\n",
              "        0.        , 0.        , 0.        , 0.        , 0.        ,\n",
              "        0.        , 0.        , 0.        ],\n",
              "       [0.        , 0.        , 0.        , 0.        , 0.        ,\n",
              "        0.        , 0.        , 0.        , 0.        , 0.        ,\n",
              "        0.41960785, 0.47843137, 0.35686275, 0.32941177, 0.6666667 ,\n",
              "        0.41960785, 0.38039216, 0.44313726, 0.44313726, 0.03529412,\n",
              "        0.        , 0.        , 0.        , 0.        , 0.        ,\n",
              "        0.        , 0.        , 0.        ],\n",
              "       [0.        , 0.        , 0.        , 0.        , 0.        ,\n",
              "        0.        , 0.        , 0.        , 0.        , 0.        ,\n",
              "        0.13725491, 0.54901963, 0.6392157 , 0.7490196 , 0.31764707,\n",
              "        0.8156863 , 0.6313726 , 0.49019608, 0.21960784, 0.05882353,\n",
              "        0.        , 0.        , 0.        , 0.        , 0.        ,\n",
              "        0.        , 0.        , 0.        ],\n",
              "       [0.        , 0.        , 0.        , 0.        , 0.        ,\n",
              "        0.        , 0.        , 0.        , 0.        , 0.06666667,\n",
              "        0.5882353 , 0.79607844, 0.84313726, 0.6392157 , 0.28627452,\n",
              "        0.79607844, 0.8235294 , 0.6901961 , 0.6156863 , 0.3019608 ,\n",
              "        0.        , 0.        , 0.        , 0.        , 0.        ,\n",
              "        0.        , 0.        , 0.        ],\n",
              "       [0.        , 0.        , 0.        , 0.        , 0.        ,\n",
              "        0.        , 0.        , 0.        , 0.        , 0.14901961,\n",
              "        0.5882353 , 0.7254902 , 0.79607844, 0.6901961 , 0.34117648,\n",
              "        0.92941177, 0.7882353 , 0.63529414, 0.56078434, 0.44313726,\n",
              "        0.        , 0.        , 0.        , 0.        , 0.        ,\n",
              "        0.        , 0.        , 0.        ],\n",
              "       [0.        , 0.        , 0.        , 0.        , 0.        ,\n",
              "        0.        , 0.        , 0.        , 0.        , 0.08627451,\n",
              "        0.34117648, 0.21960784, 0.29803923, 0.12941177, 0.        ,\n",
              "        0.27450982, 0.28235295, 0.11372549, 0.27450982, 0.31764707,\n",
              "        0.        , 0.        , 0.        , 0.        , 0.        ,\n",
              "        0.        , 0.        , 0.        ],\n",
              "       [0.        , 0.        , 0.        , 0.        , 0.        ,\n",
              "        0.        , 0.        , 0.        , 0.        , 0.19607843,\n",
              "        0.27058825, 0.60784316, 0.78431374, 0.7176471 , 0.27058825,\n",
              "        0.8235294 , 0.7647059 , 0.54901963, 0.20392157, 0.3882353 ,\n",
              "        0.        , 0.        , 0.        , 0.        , 0.        ,\n",
              "        0.        , 0.        , 0.        ],\n",
              "       [0.        , 0.        , 0.        , 0.        , 0.        ,\n",
              "        0.        , 0.        , 0.        , 0.        , 0.4392157 ,\n",
              "        0.69803923, 0.70980394, 0.8666667 , 0.7764706 , 0.34117648,\n",
              "        0.81960785, 0.85882354, 0.6156863 , 0.6313726 , 0.7137255 ,\n",
              "        0.        , 0.        , 0.        , 0.        , 0.        ,\n",
              "        0.        , 0.        , 0.        ],\n",
              "       [0.        , 0.        , 0.        , 0.        , 0.        ,\n",
              "        0.        , 0.        , 0.        , 0.        , 0.49411765,\n",
              "        0.79607844, 0.6392157 , 0.73333335, 0.59607846, 0.21960784,\n",
              "        0.7764706 , 0.85490197, 0.56078434, 0.69411767, 0.68235296,\n",
              "        0.0627451 , 0.        , 0.        , 0.        , 0.        ,\n",
              "        0.        , 0.        , 0.        ],\n",
              "       [0.        , 0.        , 0.        , 0.        , 0.        ,\n",
              "        0.        , 0.        , 0.        , 0.        , 0.14509805,\n",
              "        0.56078434, 0.22352941, 0.31764707, 0.36862746, 0.        ,\n",
              "        0.3254902 , 0.27058825, 0.        , 0.4509804 , 0.20392157,\n",
              "        0.        , 0.        , 0.        , 0.        , 0.        ,\n",
              "        0.        , 0.        , 0.        ],\n",
              "       [0.        , 0.        , 0.        , 0.        , 0.        ,\n",
              "        0.        , 0.        , 0.        , 0.03921569, 0.58431375,\n",
              "        0.6901961 , 0.69411767, 0.7647059 , 0.7411765 , 0.42352942,\n",
              "        0.9764706 , 0.8509804 , 0.53333336, 0.69411767, 0.34509805,\n",
              "        0.27058825, 0.        , 0.        , 0.        , 0.        ,\n",
              "        0.        , 0.        , 0.        ],\n",
              "       [0.        , 0.        , 0.        , 0.        , 0.        ,\n",
              "        0.        , 0.        , 0.        , 0.16862746, 0.69803923,\n",
              "        0.8745098 , 0.7176471 , 0.6313726 , 0.58431375, 0.38431373,\n",
              "        0.9019608 , 0.85490197, 0.59607846, 0.85882354, 0.60784316,\n",
              "        0.4       , 0.        , 0.        , 0.        , 0.        ,\n",
              "        0.        , 0.        , 0.        ],\n",
              "       [0.        , 0.        , 0.        , 0.        , 0.        ,\n",
              "        0.        , 0.        , 0.        , 0.04313726, 0.627451  ,\n",
              "        0.8       , 0.49019608, 0.6862745 , 0.43529412, 0.01960784,\n",
              "        0.5019608 , 0.59607846, 0.3019608 , 0.8392157 , 0.56078434,\n",
              "        0.23921569, 0.        , 0.        , 0.        , 0.        ,\n",
              "        0.        , 0.        , 0.        ],\n",
              "       [0.        , 0.        , 0.        , 0.        , 0.        ,\n",
              "        0.        , 0.        , 0.        , 0.40784314, 0.5803922 ,\n",
              "        0.49803922, 0.42745098, 0.76862746, 0.5294118 , 0.16470589,\n",
              "        0.5058824 , 0.6117647 , 0.2       , 0.44313726, 0.47058824,\n",
              "        0.36862746, 0.        , 0.        , 0.        , 0.        ,\n",
              "        0.        , 0.        , 0.        ],\n",
              "       [0.        , 0.        , 0.        , 0.        , 0.        ,\n",
              "        0.        , 0.        , 0.        , 0.42745098, 0.5568628 ,\n",
              "        0.7372549 , 0.7411765 , 0.77254903, 0.62352943, 0.47843137,\n",
              "        0.9764706 , 0.8784314 , 0.68235296, 0.7764706 , 0.7607843 ,\n",
              "        0.6       , 0.        , 0.        , 0.        , 0.        ,\n",
              "        0.        , 0.        , 0.        ],\n",
              "       [0.        , 0.        , 0.        , 0.        , 0.        ,\n",
              "        0.        , 0.        , 0.        , 0.        , 0.        ,\n",
              "        0.70980394, 0.654902  , 0.6509804 , 0.6156863 , 0.34509805,\n",
              "        0.87058824, 0.8156863 , 0.6       , 0.9490196 , 0.        ,\n",
              "        0.        , 0.        , 0.        , 0.        , 0.        ,\n",
              "        0.        , 0.        , 0.        ],\n",
              "       [0.        , 0.        , 0.        , 0.        , 0.        ,\n",
              "        0.        , 0.        , 0.        , 0.00392157, 0.        ,\n",
              "        0.5137255 , 0.03529412, 0.7254902 , 0.48235294, 0.        ,\n",
              "        0.28627452, 0.40784314, 0.05882353, 0.73333335, 0.04705882,\n",
              "        0.        , 0.        , 0.        , 0.        , 0.        ,\n",
              "        0.        , 0.        , 0.        ],\n",
              "       [0.        , 0.        , 0.        , 0.        , 0.        ,\n",
              "        0.        , 0.        , 0.        , 0.        , 0.        ,\n",
              "        0.54901963, 0.53333336, 0.8862745 , 0.8235294 , 0.36862746,\n",
              "        0.8980392 , 0.76862746, 0.52156866, 0.62352943, 0.01568628,\n",
              "        0.        , 0.        , 0.        , 0.        , 0.        ,\n",
              "        0.        , 0.        , 0.        ],\n",
              "       [0.        , 0.        , 0.        , 0.        , 0.        ,\n",
              "        0.        , 0.        , 0.        , 0.        , 0.        ,\n",
              "        0.92156863, 0.6666667 , 0.79607844, 0.77254903, 0.41568628,\n",
              "        0.96862745, 0.84705883, 0.6       , 0.89411765, 0.20392157,\n",
              "        0.        , 0.        , 0.        , 0.        , 0.        ,\n",
              "        0.        , 0.        , 0.        ],\n",
              "       [0.        , 0.        , 0.        , 0.        , 0.        ,\n",
              "        0.        , 0.        , 0.        , 0.        , 0.        ,\n",
              "        0.8509804 , 0.4509804 , 0.58431375, 0.6862745 , 0.11372549,\n",
              "        0.62352943, 0.74509805, 0.4       , 0.827451  , 0.24705882,\n",
              "        0.        , 0.        , 0.        , 0.        , 0.        ,\n",
              "        0.        , 0.        , 0.        ],\n",
              "       [0.        , 0.        , 0.        , 0.        , 0.        ,\n",
              "        0.        , 0.        , 0.        , 0.        , 0.        ,\n",
              "        0.53333336, 0.3254902 , 0.72156864, 0.654902  , 0.08235294,\n",
              "        0.49019608, 0.52156866, 0.07058824, 0.5058824 , 0.14509805,\n",
              "        0.        , 0.        , 0.        , 0.        , 0.        ,\n",
              "        0.        , 0.        , 0.        ],\n",
              "       [0.        , 0.        , 0.        , 0.        , 0.        ,\n",
              "        0.        , 0.        , 0.        , 0.        , 0.        ,\n",
              "        0.7882353 , 0.6509804 , 0.79607844, 0.87058824, 0.42352942,\n",
              "        1.        , 0.8862745 , 0.5568628 , 0.85882354, 0.28235295,\n",
              "        0.        , 0.        , 0.        , 0.        , 0.        ,\n",
              "        0.        , 0.        , 0.        ],\n",
              "       [0.        , 0.        , 0.        , 0.        , 0.        ,\n",
              "        0.        , 0.        , 0.        , 0.        , 0.        ,\n",
              "        0.827451  , 0.5764706 , 0.70980394, 0.83137256, 0.29803923,\n",
              "        0.8392157 , 0.89411765, 0.49019608, 0.9529412 , 0.4       ,\n",
              "        0.        , 0.        , 0.        , 0.        , 0.        ,\n",
              "        0.        , 0.        , 0.        ],\n",
              "       [0.        , 0.        , 0.        , 0.        , 0.        ,\n",
              "        0.        , 0.        , 0.        , 0.        , 0.        ,\n",
              "        0.5176471 , 0.30980393, 0.18039216, 0.41568628, 0.        ,\n",
              "        0.34117648, 0.54901963, 0.        , 0.59607846, 0.2627451 ,\n",
              "        0.        , 0.        , 0.        , 0.        , 0.        ,\n",
              "        0.        , 0.        , 0.        ],\n",
              "       [0.        , 0.        , 0.        , 0.        , 0.        ,\n",
              "        0.        , 0.        , 0.        , 0.        , 0.        ,\n",
              "        0.7254902 , 0.62352943, 0.70980394, 0.9843137 , 0.4117647 ,\n",
              "        0.8862745 , 0.8392157 , 0.4509804 , 0.7411765 , 0.29803923,\n",
              "        0.        , 0.        , 0.        , 0.        , 0.        ,\n",
              "        0.        , 0.        , 0.        ],\n",
              "       [0.        , 0.        , 0.        , 0.        , 0.        ,\n",
              "        0.        , 0.        , 0.        , 0.        , 0.        ,\n",
              "        0.7058824 , 0.6392157 , 0.69411767, 0.8980392 , 0.38039216,\n",
              "        0.8666667 , 0.93333334, 0.5254902 , 0.9372549 , 0.62352943,\n",
              "        0.        , 0.        , 0.        , 0.        , 0.        ,\n",
              "        0.        , 0.        , 0.        ],\n",
              "       [0.        , 0.        , 0.        , 0.        , 0.        ,\n",
              "        0.        , 0.        , 0.        , 0.        , 0.        ,\n",
              "        0.        , 0.        , 0.07058824, 0.57254905, 0.19215687,\n",
              "        0.6509804 , 0.5411765 , 0.19215687, 0.33333334, 0.        ,\n",
              "        0.        , 0.        , 0.        , 0.        , 0.        ,\n",
              "        0.        , 0.        , 0.        ]], dtype=float32)"
            ]
          },
          "metadata": {},
          "execution_count": 19
        }
      ]
    },
    {
      "cell_type": "code",
      "source": [
        "plt.imshow(images[0].squeeze(), cmap=\"gray\")"
      ],
      "metadata": {
        "colab": {
          "base_uri": "https://localhost:8080/",
          "height": 282
        },
        "id": "artpQMtTv8M6",
        "outputId": "112e0f67-1de1-4d87-8c05-49584db9d279"
      },
      "execution_count": null,
      "outputs": [
        {
          "output_type": "execute_result",
          "data": {
            "text/plain": [
              "<matplotlib.image.AxesImage at 0x7f1a849f9f90>"
            ]
          },
          "metadata": {},
          "execution_count": 20
        },
        {
          "output_type": "display_data",
          "data": {
            "text/plain": [
              "<Figure size 432x288 with 1 Axes>"
            ],
            "image/png": "[encoded data removed]"
          },
          "metadata": {
            "needs_background": "light"
          }
        }
      ]
    },
    {
      "cell_type": "code",
      "source": [
        "images[0].shape, images[0].squeeze().shape, images[0].unsqueeze(dim=1).shape"
      ],
      "metadata": {
        "colab": {
          "base_uri": "https://localhost:8080/"
        },
        "id": "yYeIWTwGwGfh",
        "outputId": "76abb409-66bf-431c-cf46-789edc73df71"
      },
      "execution_count": null,
      "outputs": [
        {
          "output_type": "execute_result",
          "data": {
            "text/plain": [
              "(torch.Size([1, 28, 28]), torch.Size([28, 28]), torch.Size([1, 1, 28, 28]))"
            ]
          },
          "metadata": {},
          "execution_count": 21
        }
      ]
    },
    {
      "cell_type": "code",
      "source": [
        "images[0][0].shape"
      ],
      "metadata": {
        "colab": {
          "base_uri": "https://localhost:8080/"
        },
        "id": "7bjcwdwqw_II",
        "outputId": "0abdcc08-cd00-429c-8d05-8fc3195d8579"
      },
      "execution_count": null,
      "outputs": [
        {
          "output_type": "execute_result",
          "data": {
            "text/plain": [
              "torch.Size([28, 28])"
            ]
          },
          "metadata": {},
          "execution_count": 22
        }
      ]
    },
    {
      "cell_type": "code",
      "source": [
        "images[0].squeeze()"
      ],
      "metadata": {
        "colab": {
          "base_uri": "https://localhost:8080/"
        },
        "id": "Ujzcfrk1w0Bq",
        "outputId": "15dc27e4-f0af-4dc8-ce5b-9b957fddeb64"
      },
      "execution_count": null,
      "outputs": [
        {
          "output_type": "execute_result",
          "data": {
            "text/plain": [
              "tensor([[0.0000, 0.0000, 0.0000, 0.0000, 0.0000, 0.0000, 0.0000, 0.0000, 0.0000,\n",
              "         0.0000, 0.0000, 0.0000, 0.2275, 0.7059, 0.4392, 0.5529, 0.2078, 0.0000,\n",
              "         0.0000, 0.0000, 0.0000, 0.0000, 0.0000, 0.0000, 0.0000, 0.0000, 0.0000,\n",
              "         0.0000],\n",
              "        [0.0000, 0.0000, 0.0000, 0.0000, 0.0000, 0.0000, 0.0000, 0.0000, 0.0000,\n",
              "         0.0000, 0.3725, 0.8980, 0.8039, 0.7412, 0.7608, 0.6863, 0.7451, 0.9882,\n",
              "         0.2039, 0.0000, 0.0000, 0.0000, 0.0000, 0.0000, 0.0000, 0.0000, 0.0000,\n",
              "         0.0000],\n",
              "        [0.0000, 0.0000, 0.0000, 0.0000, 0.0000, 0.0000, 0.0000, 0.0000, 0.0000,\n",
              "         0.0000, 0.4196, 0.4784, 0.3569, 0.3294, 0.6667, 0.4196, 0.3804, 0.4431,\n",
              "         0.4431, 0.0353, 0.0000, 0.0000, 0.0000, 0.0000, 0.0000, 0.0000, 0.0000,\n",
              "         0.0000],\n",
              "        [0.0000, 0.0000, 0.0000, 0.0000, 0.0000, 0.0000, 0.0000, 0.0000, 0.0000,\n",
              "         0.0000, 0.1373, 0.5490, 0.6392, 0.7490, 0.3176, 0.8157, 0.6314, 0.4902,\n",
              "         0.2196, 0.0588, 0.0000, 0.0000, 0.0000, 0.0000, 0.0000, 0.0000, 0.0000,\n",
              "         0.0000],\n",
              "        [0.0000, 0.0000, 0.0000, 0.0000, 0.0000, 0.0000, 0.0000, 0.0000, 0.0000,\n",
              "         0.0667, 0.5882, 0.7961, 0.8431, 0.6392, 0.2863, 0.7961, 0.8235, 0.6902,\n",
              "         0.6157, 0.3020, 0.0000, 0.0000, 0.0000, 0.0000, 0.0000, 0.0000, 0.0000,\n",
              "         0.0000],\n",
              "        [0.0000, 0.0000, 0.0000, 0.0000, 0.0000, 0.0000, 0.0000, 0.0000, 0.0000,\n",
              "         0.1490, 0.5882, 0.7255, 0.7961, 0.6902, 0.3412, 0.9294, 0.7882, 0.6353,\n",
              "         0.5608, 0.4431, 0.0000, 0.0000, 0.0000, 0.0000, 0.0000, 0.0000, 0.0000,\n",
              "         0.0000],\n",
              "        [0.0000, 0.0000, 0.0000, 0.0000, 0.0000, 0.0000, 0.0000, 0.0000, 0.0000,\n",
              "         0.0863, 0.3412, 0.2196, 0.2980, 0.1294, 0.0000, 0.2745, 0.2824, 0.1137,\n",
              "         0.2745, 0.3176, 0.0000, 0.0000, 0.0000, 0.0000, 0.0000, 0.0000, 0.0000,\n",
              "         0.0000],\n",
              "        [0.0000, 0.0000, 0.0000, 0.0000, 0.0000, 0.0000, 0.0000, 0.0000, 0.0000,\n",
              "         0.1961, 0.2706, 0.6078, 0.7843, 0.7176, 0.2706, 0.8235, 0.7647, 0.5490,\n",
              "         0.2039, 0.3882, 0.0000, 0.0000, 0.0000, 0.0000, 0.0000, 0.0000, 0.0000,\n",
              "         0.0000],\n",
              "        [0.0000, 0.0000, 0.0000, 0.0000, 0.0000, 0.0000, 0.0000, 0.0000, 0.0000,\n",
              "         0.4392, 0.6980, 0.7098, 0.8667, 0.7765, 0.3412, 0.8196, 0.8588, 0.6157,\n",
              "         0.6314, 0.7137, 0.0000, 0.0000, 0.0000, 0.0000, 0.0000, 0.0000, 0.0000,\n",
              "         0.0000],\n",
              "        [0.0000, 0.0000, 0.0000, 0.0000, 0.0000, 0.0000, 0.0000, 0.0000, 0.0000,\n",
              "         0.4941, 0.7961, 0.6392, 0.7333, 0.5961, 0.2196, 0.7765, 0.8549, 0.5608,\n",
              "         0.6941, 0.6824, 0.0627, 0.0000, 0.0000, 0.0000, 0.0000, 0.0000, 0.0000,\n",
              "         0.0000],\n",
              "        [0.0000, 0.0000, 0.0000, 0.0000, 0.0000, 0.0000, 0.0000, 0.0000, 0.0000,\n",
              "         0.1451, 0.5608, 0.2235, 0.3176, 0.3686, 0.0000, 0.3255, 0.2706, 0.0000,\n",
              "         0.4510, 0.2039, 0.0000, 0.0000, 0.0000, 0.0000, 0.0000, 0.0000, 0.0000,\n",
              "         0.0000],\n",
              "        [0.0000, 0.0000, 0.0000, 0.0000, 0.0000, 0.0000, 0.0000, 0.0000, 0.0392,\n",
              "         0.5843, 0.6902, 0.6941, 0.7647, 0.7412, 0.4235, 0.9765, 0.8510, 0.5333,\n",
              "         0.6941, 0.3451, 0.2706, 0.0000, 0.0000, 0.0000, 0.0000, 0.0000, 0.0000,\n",
              "         0.0000],\n",
              "        [0.0000, 0.0000, 0.0000, 0.0000, 0.0000, 0.0000, 0.0000, 0.0000, 0.1686,\n",
              "         0.6980, 0.8745, 0.7176, 0.6314, 0.5843, 0.3843, 0.9020, 0.8549, 0.5961,\n",
              "         0.8588, 0.6078, 0.4000, 0.0000, 0.0000, 0.0000, 0.0000, 0.0000, 0.0000,\n",
              "         0.0000],\n",
              "        [0.0000, 0.0000, 0.0000, 0.0000, 0.0000, 0.0000, 0.0000, 0.0000, 0.0431,\n",
              "         0.6275, 0.8000, 0.4902, 0.6863, 0.4353, 0.0196, 0.5020, 0.5961, 0.3020,\n",
              "         0.8392, 0.5608, 0.2392, 0.0000, 0.0000, 0.0000, 0.0000, 0.0000, 0.0000,\n",
              "         0.0000],\n",
              "        [0.0000, 0.0000, 0.0000, 0.0000, 0.0000, 0.0000, 0.0000, 0.0000, 0.4078,\n",
              "         0.5804, 0.4980, 0.4275, 0.7686, 0.5294, 0.1647, 0.5059, 0.6118, 0.2000,\n",
              "         0.4431, 0.4706, 0.3686, 0.0000, 0.0000, 0.0000, 0.0000, 0.0000, 0.0000,\n",
              "         0.0000],\n",
              "        [0.0000, 0.0000, 0.0000, 0.0000, 0.0000, 0.0000, 0.0000, 0.0000, 0.4275,\n",
              "         0.5569, 0.7373, 0.7412, 0.7725, 0.6235, 0.4784, 0.9765, 0.8784, 0.6824,\n",
              "         0.7765, 0.7608, 0.6000, 0.0000, 0.0000, 0.0000, 0.0000, 0.0000, 0.0000,\n",
              "         0.0000],\n",
              "        [0.0000, 0.0000, 0.0000, 0.0000, 0.0000, 0.0000, 0.0000, 0.0000, 0.0000,\n",
              "         0.0000, 0.7098, 0.6549, 0.6510, 0.6157, 0.3451, 0.8706, 0.8157, 0.6000,\n",
              "         0.9490, 0.0000, 0.0000, 0.0000, 0.0000, 0.0000, 0.0000, 0.0000, 0.0000,\n",
              "         0.0000],\n",
              "        [0.0000, 0.0000, 0.0000, 0.0000, 0.0000, 0.0000, 0.0000, 0.0000, 0.0039,\n",
              "         0.0000, 0.5137, 0.0353, 0.7255, 0.4824, 0.0000, 0.2863, 0.4078, 0.0588,\n",
              "         0.7333, 0.0471, 0.0000, 0.0000, 0.0000, 0.0000, 0.0000, 0.0000, 0.0000,\n",
              "         0.0000],\n",
              "        [0.0000, 0.0000, 0.0000, 0.0000, 0.0000, 0.0000, 0.0000, 0.0000, 0.0000,\n",
              "         0.0000, 0.5490, 0.5333, 0.8863, 0.8235, 0.3686, 0.8980, 0.7686, 0.5216,\n",
              "         0.6235, 0.0157, 0.0000, 0.0000, 0.0000, 0.0000, 0.0000, 0.0000, 0.0000,\n",
              "         0.0000],\n",
              "        [0.0000, 0.0000, 0.0000, 0.0000, 0.0000, 0.0000, 0.0000, 0.0000, 0.0000,\n",
              "         0.0000, 0.9216, 0.6667, 0.7961, 0.7725, 0.4157, 0.9686, 0.8471, 0.6000,\n",
              "         0.8941, 0.2039, 0.0000, 0.0000, 0.0000, 0.0000, 0.0000, 0.0000, 0.0000,\n",
              "         0.0000],\n",
              "        [0.0000, 0.0000, 0.0000, 0.0000, 0.0000, 0.0000, 0.0000, 0.0000, 0.0000,\n",
              "         0.0000, 0.8510, 0.4510, 0.5843, 0.6863, 0.1137, 0.6235, 0.7451, 0.4000,\n",
              "         0.8275, 0.2471, 0.0000, 0.0000, 0.0000, 0.0000, 0.0000, 0.0000, 0.0000,\n",
              "         0.0000],\n",
              "        [0.0000, 0.0000, 0.0000, 0.0000, 0.0000, 0.0000, 0.0000, 0.0000, 0.0000,\n",
              "         0.0000, 0.5333, 0.3255, 0.7216, 0.6549, 0.0824, 0.4902, 0.5216, 0.0706,\n",
              "         0.5059, 0.1451, 0.0000, 0.0000, 0.0000, 0.0000, 0.0000, 0.0000, 0.0000,\n",
              "         0.0000],\n",
              "        [0.0000, 0.0000, 0.0000, 0.0000, 0.0000, 0.0000, 0.0000, 0.0000, 0.0000,\n",
              "         0.0000, 0.7882, 0.6510, 0.7961, 0.8706, 0.4235, 1.0000, 0.8863, 0.5569,\n",
              "         0.8588, 0.2824, 0.0000, 0.0000, 0.0000, 0.0000, 0.0000, 0.0000, 0.0000,\n",
              "         0.0000],\n",
              "        [0.0000, 0.0000, 0.0000, 0.0000, 0.0000, 0.0000, 0.0000, 0.0000, 0.0000,\n",
              "         0.0000, 0.8275, 0.5765, 0.7098, 0.8314, 0.2980, 0.8392, 0.8941, 0.4902,\n",
              "         0.9529, 0.4000, 0.0000, 0.0000, 0.0000, 0.0000, 0.0000, 0.0000, 0.0000,\n",
              "         0.0000],\n",
              "        [0.0000, 0.0000, 0.0000, 0.0000, 0.0000, 0.0000, 0.0000, 0.0000, 0.0000,\n",
              "         0.0000, 0.5176, 0.3098, 0.1804, 0.4157, 0.0000, 0.3412, 0.5490, 0.0000,\n",
              "         0.5961, 0.2627, 0.0000, 0.0000, 0.0000, 0.0000, 0.0000, 0.0000, 0.0000,\n",
              "         0.0000],\n",
              "        [0.0000, 0.0000, 0.0000, 0.0000, 0.0000, 0.0000, 0.0000, 0.0000, 0.0000,\n",
              "         0.0000, 0.7255, 0.6235, 0.7098, 0.9843, 0.4118, 0.8863, 0.8392, 0.4510,\n",
              "         0.7412, 0.2980, 0.0000, 0.0000, 0.0000, 0.0000, 0.0000, 0.0000, 0.0000,\n",
              "         0.0000],\n",
              "        [0.0000, 0.0000, 0.0000, 0.0000, 0.0000, 0.0000, 0.0000, 0.0000, 0.0000,\n",
              "         0.0000, 0.7059, 0.6392, 0.6941, 0.8980, 0.3804, 0.8667, 0.9333, 0.5255,\n",
              "         0.9373, 0.6235, 0.0000, 0.0000, 0.0000, 0.0000, 0.0000, 0.0000, 0.0000,\n",
              "         0.0000],\n",
              "        [0.0000, 0.0000, 0.0000, 0.0000, 0.0000, 0.0000, 0.0000, 0.0000, 0.0000,\n",
              "         0.0000, 0.0000, 0.0000, 0.0706, 0.5725, 0.1922, 0.6510, 0.5412, 0.1922,\n",
              "         0.3333, 0.0000, 0.0000, 0.0000, 0.0000, 0.0000, 0.0000, 0.0000, 0.0000,\n",
              "         0.0000]])"
            ]
          },
          "metadata": {},
          "execution_count": 23
        }
      ]
    },
    {
      "cell_type": "code",
      "source": [
        "images[0].unsqueeze(dim=1)"
      ],
      "metadata": {
        "colab": {
          "base_uri": "https://localhost:8080/"
        },
        "id": "xkgwC-bsxMER",
        "outputId": "0cdc5ef8-c0a0-4e48-f207-97c9a683355f"
      },
      "execution_count": null,
      "outputs": [
        {
          "output_type": "execute_result",
          "data": {
            "text/plain": [
              "tensor([[[[0.0000, 0.0000, 0.0000, 0.0000, 0.0000, 0.0000, 0.0000, 0.0000,\n",
              "           0.0000, 0.0000, 0.0000, 0.0000, 0.2275, 0.7059, 0.4392, 0.5529,\n",
              "           0.2078, 0.0000, 0.0000, 0.0000, 0.0000, 0.0000, 0.0000, 0.0000,\n",
              "           0.0000, 0.0000, 0.0000, 0.0000],\n",
              "          [0.0000, 0.0000, 0.0000, 0.0000, 0.0000, 0.0000, 0.0000, 0.0000,\n",
              "           0.0000, 0.0000, 0.3725, 0.8980, 0.8039, 0.7412, 0.7608, 0.6863,\n",
              "           0.7451, 0.9882, 0.2039, 0.0000, 0.0000, 0.0000, 0.0000, 0.0000,\n",
              "           0.0000, 0.0000, 0.0000, 0.0000],\n",
              "          [0.0000, 0.0000, 0.0000, 0.0000, 0.0000, 0.0000, 0.0000, 0.0000,\n",
              "           0.0000, 0.0000, 0.4196, 0.4784, 0.3569, 0.3294, 0.6667, 0.4196,\n",
              "           0.3804, 0.4431, 0.4431, 0.0353, 0.0000, 0.0000, 0.0000, 0.0000,\n",
              "           0.0000, 0.0000, 0.0000, 0.0000],\n",
              "          [0.0000, 0.0000, 0.0000, 0.0000, 0.0000, 0.0000, 0.0000, 0.0000,\n",
              "           0.0000, 0.0000, 0.1373, 0.5490, 0.6392, 0.7490, 0.3176, 0.8157,\n",
              "           0.6314, 0.4902, 0.2196, 0.0588, 0.0000, 0.0000, 0.0000, 0.0000,\n",
              "           0.0000, 0.0000, 0.0000, 0.0000],\n",
              "          [0.0000, 0.0000, 0.0000, 0.0000, 0.0000, 0.0000, 0.0000, 0.0000,\n",
              "           0.0000, 0.0667, 0.5882, 0.7961, 0.8431, 0.6392, 0.2863, 0.7961,\n",
              "           0.8235, 0.6902, 0.6157, 0.3020, 0.0000, 0.0000, 0.0000, 0.0000,\n",
              "           0.0000, 0.0000, 0.0000, 0.0000],\n",
              "          [0.0000, 0.0000, 0.0000, 0.0000, 0.0000, 0.0000, 0.0000, 0.0000,\n",
              "           0.0000, 0.1490, 0.5882, 0.7255, 0.7961, 0.6902, 0.3412, 0.9294,\n",
              "           0.7882, 0.6353, 0.5608, 0.4431, 0.0000, 0.0000, 0.0000, 0.0000,\n",
              "           0.0000, 0.0000, 0.0000, 0.0000],\n",
              "          [0.0000, 0.0000, 0.0000, 0.0000, 0.0000, 0.0000, 0.0000, 0.0000,\n",
              "           0.0000, 0.0863, 0.3412, 0.2196, 0.2980, 0.1294, 0.0000, 0.2745,\n",
              "           0.2824, 0.1137, 0.2745, 0.3176, 0.0000, 0.0000, 0.0000, 0.0000,\n",
              "           0.0000, 0.0000, 0.0000, 0.0000],\n",
              "          [0.0000, 0.0000, 0.0000, 0.0000, 0.0000, 0.0000, 0.0000, 0.0000,\n",
              "           0.0000, 0.1961, 0.2706, 0.6078, 0.7843, 0.7176, 0.2706, 0.8235,\n",
              "           0.7647, 0.5490, 0.2039, 0.3882, 0.0000, 0.0000, 0.0000, 0.0000,\n",
              "           0.0000, 0.0000, 0.0000, 0.0000],\n",
              "          [0.0000, 0.0000, 0.0000, 0.0000, 0.0000, 0.0000, 0.0000, 0.0000,\n",
              "           0.0000, 0.4392, 0.6980, 0.7098, 0.8667, 0.7765, 0.3412, 0.8196,\n",
              "           0.8588, 0.6157, 0.6314, 0.7137, 0.0000, 0.0000, 0.0000, 0.0000,\n",
              "           0.0000, 0.0000, 0.0000, 0.0000],\n",
              "          [0.0000, 0.0000, 0.0000, 0.0000, 0.0000, 0.0000, 0.0000, 0.0000,\n",
              "           0.0000, 0.4941, 0.7961, 0.6392, 0.7333, 0.5961, 0.2196, 0.7765,\n",
              "           0.8549, 0.5608, 0.6941, 0.6824, 0.0627, 0.0000, 0.0000, 0.0000,\n",
              "           0.0000, 0.0000, 0.0000, 0.0000],\n",
              "          [0.0000, 0.0000, 0.0000, 0.0000, 0.0000, 0.0000, 0.0000, 0.0000,\n",
              "           0.0000, 0.1451, 0.5608, 0.2235, 0.3176, 0.3686, 0.0000, 0.3255,\n",
              "           0.2706, 0.0000, 0.4510, 0.2039, 0.0000, 0.0000, 0.0000, 0.0000,\n",
              "           0.0000, 0.0000, 0.0000, 0.0000],\n",
              "          [0.0000, 0.0000, 0.0000, 0.0000, 0.0000, 0.0000, 0.0000, 0.0000,\n",
              "           0.0392, 0.5843, 0.6902, 0.6941, 0.7647, 0.7412, 0.4235, 0.9765,\n",
              "           0.8510, 0.5333, 0.6941, 0.3451, 0.2706, 0.0000, 0.0000, 0.0000,\n",
              "           0.0000, 0.0000, 0.0000, 0.0000],\n",
              "          [0.0000, 0.0000, 0.0000, 0.0000, 0.0000, 0.0000, 0.0000, 0.0000,\n",
              "           0.1686, 0.6980, 0.8745, 0.7176, 0.6314, 0.5843, 0.3843, 0.9020,\n",
              "           0.8549, 0.5961, 0.8588, 0.6078, 0.4000, 0.0000, 0.0000, 0.0000,\n",
              "           0.0000, 0.0000, 0.0000, 0.0000],\n",
              "          [0.0000, 0.0000, 0.0000, 0.0000, 0.0000, 0.0000, 0.0000, 0.0000,\n",
              "           0.0431, 0.6275, 0.8000, 0.4902, 0.6863, 0.4353, 0.0196, 0.5020,\n",
              "           0.5961, 0.3020, 0.8392, 0.5608, 0.2392, 0.0000, 0.0000, 0.0000,\n",
              "           0.0000, 0.0000, 0.0000, 0.0000],\n",
              "          [0.0000, 0.0000, 0.0000, 0.0000, 0.0000, 0.0000, 0.0000, 0.0000,\n",
              "           0.4078, 0.5804, 0.4980, 0.4275, 0.7686, 0.5294, 0.1647, 0.5059,\n",
              "           0.6118, 0.2000, 0.4431, 0.4706, 0.3686, 0.0000, 0.0000, 0.0000,\n",
              "           0.0000, 0.0000, 0.0000, 0.0000],\n",
              "          [0.0000, 0.0000, 0.0000, 0.0000, 0.0000, 0.0000, 0.0000, 0.0000,\n",
              "           0.4275, 0.5569, 0.7373, 0.7412, 0.7725, 0.6235, 0.4784, 0.9765,\n",
              "           0.8784, 0.6824, 0.7765, 0.7608, 0.6000, 0.0000, 0.0000, 0.0000,\n",
              "           0.0000, 0.0000, 0.0000, 0.0000],\n",
              "          [0.0000, 0.0000, 0.0000, 0.0000, 0.0000, 0.0000, 0.0000, 0.0000,\n",
              "           0.0000, 0.0000, 0.7098, 0.6549, 0.6510, 0.6157, 0.3451, 0.8706,\n",
              "           0.8157, 0.6000, 0.9490, 0.0000, 0.0000, 0.0000, 0.0000, 0.0000,\n",
              "           0.0000, 0.0000, 0.0000, 0.0000],\n",
              "          [0.0000, 0.0000, 0.0000, 0.0000, 0.0000, 0.0000, 0.0000, 0.0000,\n",
              "           0.0039, 0.0000, 0.5137, 0.0353, 0.7255, 0.4824, 0.0000, 0.2863,\n",
              "           0.4078, 0.0588, 0.7333, 0.0471, 0.0000, 0.0000, 0.0000, 0.0000,\n",
              "           0.0000, 0.0000, 0.0000, 0.0000],\n",
              "          [0.0000, 0.0000, 0.0000, 0.0000, 0.0000, 0.0000, 0.0000, 0.0000,\n",
              "           0.0000, 0.0000, 0.5490, 0.5333, 0.8863, 0.8235, 0.3686, 0.8980,\n",
              "           0.7686, 0.5216, 0.6235, 0.0157, 0.0000, 0.0000, 0.0000, 0.0000,\n",
              "           0.0000, 0.0000, 0.0000, 0.0000],\n",
              "          [0.0000, 0.0000, 0.0000, 0.0000, 0.0000, 0.0000, 0.0000, 0.0000,\n",
              "           0.0000, 0.0000, 0.9216, 0.6667, 0.7961, 0.7725, 0.4157, 0.9686,\n",
              "           0.8471, 0.6000, 0.8941, 0.2039, 0.0000, 0.0000, 0.0000, 0.0000,\n",
              "           0.0000, 0.0000, 0.0000, 0.0000],\n",
              "          [0.0000, 0.0000, 0.0000, 0.0000, 0.0000, 0.0000, 0.0000, 0.0000,\n",
              "           0.0000, 0.0000, 0.8510, 0.4510, 0.5843, 0.6863, 0.1137, 0.6235,\n",
              "           0.7451, 0.4000, 0.8275, 0.2471, 0.0000, 0.0000, 0.0000, 0.0000,\n",
              "           0.0000, 0.0000, 0.0000, 0.0000],\n",
              "          [0.0000, 0.0000, 0.0000, 0.0000, 0.0000, 0.0000, 0.0000, 0.0000,\n",
              "           0.0000, 0.0000, 0.5333, 0.3255, 0.7216, 0.6549, 0.0824, 0.4902,\n",
              "           0.5216, 0.0706, 0.5059, 0.1451, 0.0000, 0.0000, 0.0000, 0.0000,\n",
              "           0.0000, 0.0000, 0.0000, 0.0000],\n",
              "          [0.0000, 0.0000, 0.0000, 0.0000, 0.0000, 0.0000, 0.0000, 0.0000,\n",
              "           0.0000, 0.0000, 0.7882, 0.6510, 0.7961, 0.8706, 0.4235, 1.0000,\n",
              "           0.8863, 0.5569, 0.8588, 0.2824, 0.0000, 0.0000, 0.0000, 0.0000,\n",
              "           0.0000, 0.0000, 0.0000, 0.0000],\n",
              "          [0.0000, 0.0000, 0.0000, 0.0000, 0.0000, 0.0000, 0.0000, 0.0000,\n",
              "           0.0000, 0.0000, 0.8275, 0.5765, 0.7098, 0.8314, 0.2980, 0.8392,\n",
              "           0.8941, 0.4902, 0.9529, 0.4000, 0.0000, 0.0000, 0.0000, 0.0000,\n",
              "           0.0000, 0.0000, 0.0000, 0.0000],\n",
              "          [0.0000, 0.0000, 0.0000, 0.0000, 0.0000, 0.0000, 0.0000, 0.0000,\n",
              "           0.0000, 0.0000, 0.5176, 0.3098, 0.1804, 0.4157, 0.0000, 0.3412,\n",
              "           0.5490, 0.0000, 0.5961, 0.2627, 0.0000, 0.0000, 0.0000, 0.0000,\n",
              "           0.0000, 0.0000, 0.0000, 0.0000],\n",
              "          [0.0000, 0.0000, 0.0000, 0.0000, 0.0000, 0.0000, 0.0000, 0.0000,\n",
              "           0.0000, 0.0000, 0.7255, 0.6235, 0.7098, 0.9843, 0.4118, 0.8863,\n",
              "           0.8392, 0.4510, 0.7412, 0.2980, 0.0000, 0.0000, 0.0000, 0.0000,\n",
              "           0.0000, 0.0000, 0.0000, 0.0000],\n",
              "          [0.0000, 0.0000, 0.0000, 0.0000, 0.0000, 0.0000, 0.0000, 0.0000,\n",
              "           0.0000, 0.0000, 0.7059, 0.6392, 0.6941, 0.8980, 0.3804, 0.8667,\n",
              "           0.9333, 0.5255, 0.9373, 0.6235, 0.0000, 0.0000, 0.0000, 0.0000,\n",
              "           0.0000, 0.0000, 0.0000, 0.0000],\n",
              "          [0.0000, 0.0000, 0.0000, 0.0000, 0.0000, 0.0000, 0.0000, 0.0000,\n",
              "           0.0000, 0.0000, 0.0000, 0.0000, 0.0706, 0.5725, 0.1922, 0.6510,\n",
              "           0.5412, 0.1922, 0.3333, 0.0000, 0.0000, 0.0000, 0.0000, 0.0000,\n",
              "           0.0000, 0.0000, 0.0000, 0.0000]]]])"
            ]
          },
          "metadata": {},
          "execution_count": 24
        }
      ]
    },
    {
      "cell_type": "code",
      "source": [
        "class CNN(nn.Module):\n",
        "  def __init__(self, in_, out_):\n",
        "    super(CNN, self).__init__()\n",
        "\n",
        "    self.conv_pool_01 = nn.Sequential(\n",
        "        nn.Conv2d(in_channels=in_, out_channels=8, kernel_size=5, stride=1, padding=0),\n",
        "        nn.ReLU(),\n",
        "        nn.MaxPool2d(kernel_size=2, stride=2)\n",
        "    )\n",
        "\n",
        "    self.conv_pool_02 = nn.Sequential(\n",
        "        nn.Conv2d(in_channels=8, out_channels=16, kernel_size=5, stride=1, padding=0),\n",
        "        nn.ReLU(),\n",
        "        nn.MaxPool2d(kernel_size=2, stride=2)\n",
        "    )\n",
        "\n",
        "    self.Flatten = nn.Flatten()\n",
        "    self.FC_01 = nn.Linear(in_features=16*4*4, out_features=128)\n",
        "    self.FC_02 = nn.Linear(in_features=128, out_features=64)\n",
        "    self.FC_03 = nn.Linear(in_features=64, out_features=out_)\n",
        "\n",
        "  def forward(self, x):\n",
        "    x = self.conv_pool_01(x)\n",
        "    x = self.conv_pool_02(x)\n",
        "    x = self.Flatten(x)\n",
        "    x = self.FC_01(x)\n",
        "    x = F.relu(x)\n",
        "    x = self.FC_02(x)\n",
        "    x = F.relu(x)\n",
        "    x = self.FC_03(x)\n",
        "    return x"
      ],
      "metadata": {
        "id": "UGs_PI-yxZLp"
      },
      "execution_count": null,
      "outputs": []
    },
    {
      "cell_type": "code",
      "source": [
        "model = CNN(1, 10)\n",
        "\n",
        "print(model)"
      ],
      "metadata": {
        "colab": {
          "base_uri": "https://localhost:8080/"
        },
        "id": "gsUP8CLP3Lf5",
        "outputId": "7d27077a-640e-4f51-e7c1-a3aab98cd29a"
      },
      "execution_count": null,
      "outputs": [
        {
          "output_type": "stream",
          "name": "stdout",
          "text": [
            "CNN(\n",
            "  (conv_pool_01): Sequential(\n",
            "    (0): Conv2d(1, 8, kernel_size=(5, 5), stride=(1, 1))\n",
            "    (1): ReLU()\n",
            "    (2): MaxPool2d(kernel_size=2, stride=2, padding=0, dilation=1, ceil_mode=False)\n",
            "  )\n",
            "  (conv_pool_02): Sequential(\n",
            "    (0): Conv2d(8, 16, kernel_size=(5, 5), stride=(1, 1))\n",
            "    (1): ReLU()\n",
            "    (2): MaxPool2d(kernel_size=2, stride=2, padding=0, dilation=1, ceil_mode=False)\n",
            "  )\n",
            "  (Flatten): Flatten(start_dim=1, end_dim=-1)\n",
            "  (FC_01): Linear(in_features=256, out_features=128, bias=True)\n",
            "  (FC_02): Linear(in_features=128, out_features=64, bias=True)\n",
            "  (FC_03): Linear(in_features=64, out_features=10, bias=True)\n",
            ")\n"
          ]
        }
      ]
    },
    {
      "cell_type": "code",
      "source": [
        "model.conv_pool_02"
      ],
      "metadata": {
        "colab": {
          "base_uri": "https://localhost:8080/"
        },
        "id": "Pj4qL1ew3WJc",
        "outputId": "fa35009e-708e-470c-c1a2-82574c2f2987"
      },
      "execution_count": null,
      "outputs": [
        {
          "output_type": "execute_result",
          "data": {
            "text/plain": [
              "Sequential(\n",
              "  (0): Conv2d(8, 16, kernel_size=(5, 5), stride=(1, 1))\n",
              "  (1): ReLU()\n",
              "  (2): MaxPool2d(kernel_size=2, stride=2, padding=0, dilation=1, ceil_mode=False)\n",
              ")"
            ]
          },
          "metadata": {},
          "execution_count": 27
        }
      ]
    },
    {
      "cell_type": "code",
      "source": [
        "next(model.parameters()).is_cuda"
      ],
      "metadata": {
        "colab": {
          "base_uri": "https://localhost:8080/"
        },
        "id": "dmAdYZH88Hhx",
        "outputId": "19904949-077d-44b5-f0de-52d5ed49f4e4"
      },
      "execution_count": null,
      "outputs": [
        {
          "output_type": "execute_result",
          "data": {
            "text/plain": [
              "False"
            ]
          },
          "metadata": {},
          "execution_count": 28
        }
      ]
    },
    {
      "cell_type": "code",
      "source": [
        "model.to(config.DEVICE)"
      ],
      "metadata": {
        "colab": {
          "base_uri": "https://localhost:8080/"
        },
        "id": "EpMW3RAL8fWf",
        "outputId": "92d3295e-3760-493b-96ca-930894020727"
      },
      "execution_count": null,
      "outputs": [
        {
          "output_type": "execute_result",
          "data": {
            "text/plain": [
              "CNN(\n",
              "  (conv_pool_01): Sequential(\n",
              "    (0): Conv2d(1, 8, kernel_size=(5, 5), stride=(1, 1))\n",
              "    (1): ReLU()\n",
              "    (2): MaxPool2d(kernel_size=2, stride=2, padding=0, dilation=1, ceil_mode=False)\n",
              "  )\n",
              "  (conv_pool_02): Sequential(\n",
              "    (0): Conv2d(8, 16, kernel_size=(5, 5), stride=(1, 1))\n",
              "    (1): ReLU()\n",
              "    (2): MaxPool2d(kernel_size=2, stride=2, padding=0, dilation=1, ceil_mode=False)\n",
              "  )\n",
              "  (Flatten): Flatten(start_dim=1, end_dim=-1)\n",
              "  (FC_01): Linear(in_features=256, out_features=128, bias=True)\n",
              "  (FC_02): Linear(in_features=128, out_features=64, bias=True)\n",
              "  (FC_03): Linear(in_features=64, out_features=10, bias=True)\n",
              ")"
            ]
          },
          "metadata": {},
          "execution_count": 29
        }
      ]
    },
    {
      "cell_type": "code",
      "source": [
        "next(model.parameters()).is_cuda"
      ],
      "metadata": {
        "colab": {
          "base_uri": "https://localhost:8080/"
        },
        "id": "0t0aLqHj8n32",
        "outputId": "5003f7a1-f494-4bb5-b7b4-b0304f7174be"
      },
      "execution_count": null,
      "outputs": [
        {
          "output_type": "execute_result",
          "data": {
            "text/plain": [
              "True"
            ]
          },
          "metadata": {},
          "execution_count": 30
        }
      ]
    },
    {
      "cell_type": "markdown",
      "source": [
        "## Count the no. of trainable parameters"
      ],
      "metadata": {
        "id": "3adlIIWQ80ao"
      }
    },
    {
      "cell_type": "code",
      "source": [
        "def count_params(model):\n",
        "  model_params = {\"Modules\": list(), \"Parameters\": list()}\n",
        "  total = {\"trainable\": 0, \"non_trainable\": 0}\n",
        "  for name, parameters in model.named_parameters():\n",
        "    param = parameters.numel()\n",
        "    if not parameters.requires_grad:\n",
        "      total[\"non_trainable\"] += param\n",
        "      continue\n",
        "    model_params[\"Modules\"].append(name)\n",
        "    model_params[\"Parameters\"].append(param)\n",
        "    total[\"trainable\"] += param\n",
        "  df = pd.DataFrame(model_params)\n",
        "  df = df.style.set_caption(f\"Total parameters: {total}\")\n",
        "  return df\n",
        "\n",
        "count_params(model)"
      ],
      "metadata": {
        "colab": {
          "base_uri": "https://localhost:8080/",
          "height": 398
        },
        "id": "sRiX_aPN8rYn",
        "outputId": "a2d4759c-2b69-4f7e-adf9-7850f212ae6f"
      },
      "execution_count": null,
      "outputs": [
        {
          "output_type": "execute_result",
          "data": {
            "text/plain": [
              "<pandas.io.formats.style.Styler at 0x7f1a86fcb050>"
            ],
            "text/html": [
              "<style type=\"text/css\">\n",
              "</style>\n",
              "<table id=\"T_80eec_\" class=\"dataframe\">\n",
              "  <caption>Total parameters: {'trainable': 45226, 'non_trainable': 0}</caption>\n",
              "  <thead>\n",
              "    <tr>\n",
              "      <th class=\"blank level0\" >&nbsp;</th>\n",
              "      <th class=\"col_heading level0 col0\" >Modules</th>\n",
              "      <th class=\"col_heading level0 col1\" >Parameters</th>\n",
              "    </tr>\n",
              "  </thead>\n",
              "  <tbody>\n",
              "    <tr>\n",
              "      <th id=\"T_80eec_level0_row0\" class=\"row_heading level0 row0\" >0</th>\n",
              "      <td id=\"T_80eec_row0_col0\" class=\"data row0 col0\" >conv_pool_01.0.weight</td>\n",
              "      <td id=\"T_80eec_row0_col1\" class=\"data row0 col1\" >200</td>\n",
              "    </tr>\n",
              "    <tr>\n",
              "      <th id=\"T_80eec_level0_row1\" class=\"row_heading level0 row1\" >1</th>\n",
              "      <td id=\"T_80eec_row1_col0\" class=\"data row1 col0\" >conv_pool_01.0.bias</td>\n",
              "      <td id=\"T_80eec_row1_col1\" class=\"data row1 col1\" >8</td>\n",
              "    </tr>\n",
              "    <tr>\n",
              "      <th id=\"T_80eec_level0_row2\" class=\"row_heading level0 row2\" >2</th>\n",
              "      <td id=\"T_80eec_row2_col0\" class=\"data row2 col0\" >conv_pool_02.0.weight</td>\n",
              "      <td id=\"T_80eec_row2_col1\" class=\"data row2 col1\" >3200</td>\n",
              "    </tr>\n",
              "    <tr>\n",
              "      <th id=\"T_80eec_level0_row3\" class=\"row_heading level0 row3\" >3</th>\n",
              "      <td id=\"T_80eec_row3_col0\" class=\"data row3 col0\" >conv_pool_02.0.bias</td>\n",
              "      <td id=\"T_80eec_row3_col1\" class=\"data row3 col1\" >16</td>\n",
              "    </tr>\n",
              "    <tr>\n",
              "      <th id=\"T_80eec_level0_row4\" class=\"row_heading level0 row4\" >4</th>\n",
              "      <td id=\"T_80eec_row4_col0\" class=\"data row4 col0\" >FC_01.weight</td>\n",
              "      <td id=\"T_80eec_row4_col1\" class=\"data row4 col1\" >32768</td>\n",
              "    </tr>\n",
              "    <tr>\n",
              "      <th id=\"T_80eec_level0_row5\" class=\"row_heading level0 row5\" >5</th>\n",
              "      <td id=\"T_80eec_row5_col0\" class=\"data row5 col0\" >FC_01.bias</td>\n",
              "      <td id=\"T_80eec_row5_col1\" class=\"data row5 col1\" >128</td>\n",
              "    </tr>\n",
              "    <tr>\n",
              "      <th id=\"T_80eec_level0_row6\" class=\"row_heading level0 row6\" >6</th>\n",
              "      <td id=\"T_80eec_row6_col0\" class=\"data row6 col0\" >FC_02.weight</td>\n",
              "      <td id=\"T_80eec_row6_col1\" class=\"data row6 col1\" >8192</td>\n",
              "    </tr>\n",
              "    <tr>\n",
              "      <th id=\"T_80eec_level0_row7\" class=\"row_heading level0 row7\" >7</th>\n",
              "      <td id=\"T_80eec_row7_col0\" class=\"data row7 col0\" >FC_02.bias</td>\n",
              "      <td id=\"T_80eec_row7_col1\" class=\"data row7 col1\" >64</td>\n",
              "    </tr>\n",
              "    <tr>\n",
              "      <th id=\"T_80eec_level0_row8\" class=\"row_heading level0 row8\" >8</th>\n",
              "      <td id=\"T_80eec_row8_col0\" class=\"data row8 col0\" >FC_03.weight</td>\n",
              "      <td id=\"T_80eec_row8_col1\" class=\"data row8 col1\" >640</td>\n",
              "    </tr>\n",
              "    <tr>\n",
              "      <th id=\"T_80eec_level0_row9\" class=\"row_heading level0 row9\" >9</th>\n",
              "      <td id=\"T_80eec_row9_col0\" class=\"data row9 col0\" >FC_03.bias</td>\n",
              "      <td id=\"T_80eec_row9_col1\" class=\"data row9 col1\" >10</td>\n",
              "    </tr>\n",
              "  </tbody>\n",
              "</table>\n"
            ]
          },
          "metadata": {},
          "execution_count": 31
        }
      ]
    },
    {
      "cell_type": "markdown",
      "source": [
        "## Training loop"
      ],
      "metadata": {
        "id": "_ch8lk1z--v-"
      }
    },
    {
      "cell_type": "code",
      "source": [
        "60000/32"
      ],
      "metadata": {
        "colab": {
          "base_uri": "https://localhost:8080/"
        },
        "id": "0wJtd6EJvE2T",
        "outputId": "fcecd2f0-2e02-4101-be18-07ced787d780"
      },
      "execution_count": null,
      "outputs": [
        {
          "output_type": "execute_result",
          "data": {
            "text/plain": [
              "1875.0"
            ]
          },
          "metadata": {},
          "execution_count": 32
        }
      ]
    },
    {
      "cell_type": "code",
      "source": [
        "criterion = nn.CrossEntropyLoss() ## loss function\n",
        "optimizer = torch.optim.Adam(model.parameters(), lr=config.LEARNING_RATE)"
      ],
      "metadata": {
        "id": "0hv3ecT5xfZY"
      },
      "execution_count": null,
      "outputs": []
    },
    {
      "cell_type": "code",
      "source": [
        "len(train_data_loader) ## STEPS PER EPOCHS"
      ],
      "metadata": {
        "colab": {
          "base_uri": "https://localhost:8080/"
        },
        "id": "FKOCmlsCx7QI",
        "outputId": "65485b98-5410-4e90-e6c8-e49163305c9e"
      },
      "execution_count": null,
      "outputs": [
        {
          "output_type": "execute_result",
          "data": {
            "text/plain": [
              "1875"
            ]
          },
          "metadata": {},
          "execution_count": 34
        }
      ]
    },
    {
      "cell_type": "code",
      "source": [
        "for epoch in range(config.EPOCH):\n",
        "  with tqdm(train_data_loader) as tqdm_epoch:\n",
        "    for images, labels in tqdm_epoch:\n",
        "      tqdm_epoch.set_description(f\"Epoch {epoch + 1}/{config.EPOCH}\")\n",
        "\n",
        "      # put the images on device\n",
        "      images = images.to(config.DEVICE)\n",
        "      labels = labels.to(config.DEVICE)\n",
        "\n",
        "      # forward pass\n",
        "      outputs = model(images)\n",
        "      loss = criterion(outputs, labels) # TODO #<< passing the pred, target\n",
        "\n",
        "      # backward prop\n",
        "      optimizer.zero_grad() # past gradient\n",
        "      loss.backward() # calculate the gradients\n",
        "      optimizer.step() # weights updated\n",
        "\n",
        "      tqdm_epoch.set_postfix(loss=loss.item())"
      ],
      "metadata": {
        "id": "kXISVZns97Gu",
        "colab": {
          "base_uri": "https://localhost:8080/"
        },
        "outputId": "39fa09f7-8851-4954-aee0-81c3a8a25750"
      },
      "execution_count": null,
      "outputs": [
        {
          "output_type": "stream",
          "name": "stderr",
          "text": [
            "Epoch 1/10: 100%|██████████| 1875/1875 [00:34<00:00, 55.13it/s, loss=0.485]\n",
            "Epoch 2/10: 100%|██████████| 1875/1875 [00:33<00:00, 55.85it/s, loss=0.241]\n",
            "Epoch 3/10: 100%|██████████| 1875/1875 [00:33<00:00, 56.13it/s, loss=0.332]\n",
            "Epoch 4/10: 100%|██████████| 1875/1875 [00:33<00:00, 55.98it/s, loss=0.232]\n",
            "Epoch 5/10: 100%|██████████| 1875/1875 [00:33<00:00, 56.04it/s, loss=0.581]\n",
            "Epoch 6/10: 100%|██████████| 1875/1875 [00:33<00:00, 56.12it/s, loss=0.304]\n",
            "Epoch 7/10: 100%|██████████| 1875/1875 [00:33<00:00, 56.22it/s, loss=0.426]\n",
            "Epoch 8/10: 100%|██████████| 1875/1875 [00:33<00:00, 56.23it/s, loss=0.471]\n",
            "Epoch 9/10: 100%|██████████| 1875/1875 [00:33<00:00, 56.02it/s, loss=0.331]\n",
            "Epoch 10/10: 100%|██████████| 1875/1875 [00:33<00:00, 56.42it/s, loss=0.699]\n"
          ]
        }
      ]
    },
    {
      "cell_type": "markdown",
      "source": [
        "## Save the model"
      ],
      "metadata": {
        "id": "hSLiVdzB0moj"
      }
    },
    {
      "cell_type": "code",
      "source": [
        "os.makedirs(\"model_dir\", exist_ok=True)\n",
        "model_file_path = os.path.join(\"model_dir\", \"CNN_model.pth\")\n",
        "torch.save(model, model_file_path)"
      ],
      "metadata": {
        "id": "xK1IqYqh0ose"
      },
      "execution_count": null,
      "outputs": []
    },
    {
      "cell_type": "markdown",
      "source": [
        "## Load the model"
      ],
      "metadata": {
        "id": "XY0YFLmL1J9P"
      }
    },
    {
      "cell_type": "code",
      "source": [
        "loaded_model = torch.load(model_file_path)"
      ],
      "metadata": {
        "id": "SGCjTz-81LpF"
      },
      "execution_count": null,
      "outputs": []
    },
    {
      "cell_type": "markdown",
      "source": [
        "## Evaluate our model"
      ],
      "metadata": {
        "id": "HwX6bnIe_BC_"
      }
    },
    {
      "cell_type": "code",
      "source": [
        "pred = np.array([])\n",
        "target = np.array([])\n",
        "\n",
        "with torch.no_grad():\n",
        "  for batch, data in enumerate(test_data_loader):\n",
        "    images = data[0].to(config.DEVICE)\n",
        "    labels = data[1].to(config.DEVICE)\n",
        "\n",
        "    y_pred = model(images)\n",
        "\n",
        "    pred = np.concatenate((pred, torch.argmax(y_pred, 1).cpu().numpy()))\n",
        "    target = np.concatenate((target, labels.cpu().numpy()))"
      ],
      "metadata": {
        "id": "OqS9yO7D_C9L"
      },
      "execution_count": null,
      "outputs": []
    },
    {
      "cell_type": "code",
      "source": [
        "cm = confusion_matrix(target, pred)"
      ],
      "metadata": {
        "id": "c6H5NuyZ21bL"
      },
      "execution_count": null,
      "outputs": []
    },
    {
      "cell_type": "code",
      "source": [
        "1e3"
      ],
      "metadata": {
        "colab": {
          "base_uri": "https://localhost:8080/"
        },
        "id": "_yQA-JSK3R5z",
        "outputId": "258f021a-7f17-4622-da5a-cced5e8ed9cb"
      },
      "execution_count": null,
      "outputs": [
        {
          "output_type": "execute_result",
          "data": {
            "text/plain": [
              "1000.0"
            ]
          },
          "metadata": {},
          "execution_count": 41
        }
      ]
    },
    {
      "cell_type": "code",
      "source": [
        "label_map.values()"
      ],
      "metadata": {
        "colab": {
          "base_uri": "https://localhost:8080/"
        },
        "id": "5aKU-kwX3iWk",
        "outputId": "f7e1aca1-871b-4856-c16b-bd202ff82a47"
      },
      "execution_count": null,
      "outputs": [
        {
          "output_type": "execute_result",
          "data": {
            "text/plain": [
              "dict_values(['T-shirt/top', 'Trouser', 'Pullover', 'Dress', 'Coat', 'Sandal', 'Shirt', 'Sneaker', 'Bag', 'Ankle boot'])"
            ]
          },
          "metadata": {},
          "execution_count": 45
        }
      ]
    },
    {
      "cell_type": "code",
      "source": [
        "plt.figure(figsize=(12,10))\n",
        "sns.heatmap(cm, annot=True, fmt='d', xticklabels=label_map.values() , yticklabels=label_map.values(), cbar=False)"
      ],
      "metadata": {
        "colab": {
          "base_uri": "https://localhost:8080/",
          "height": 610
        },
        "id": "YPpA9vkv285L",
        "outputId": "9a0953e5-76ef-4cce-b987-799519d27d60"
      },
      "execution_count": null,
      "outputs": [
        {
          "output_type": "execute_result",
          "data": {
            "text/plain": [
              "<matplotlib.axes._subplots.AxesSubplot at 0x7f1a80511cd0>"
            ]
          },
          "metadata": {},
          "execution_count": 46
        },
        {
          "output_type": "display_data",
          "data": {
            "text/plain": [
              "<Figure size 864x720 with 1 Axes>"
            ],
            "image/png": "[encoded data removed]"
          },
          "metadata": {
            "needs_background": "light"
          }
        }
      ]
    },
    {
      "cell_type": "markdown",
      "source": [
        "## prediction on our model"
      ],
      "metadata": {
        "id": "76rHcV37_DV0"
      }
    },
    {
      "cell_type": "code",
      "source": [
        "data = next(iter(test_data_loader))\n",
        "data"
      ],
      "metadata": {
        "id": "UxkPwRdR_FPt",
        "colab": {
          "base_uri": "https://localhost:8080/"
        },
        "outputId": "73c2f00e-296b-44ac-84a6-4fe6591a30ee"
      },
      "execution_count": null,
      "outputs": [
        {
          "output_type": "execute_result",
          "data": {
            "text/plain": [
              "[tensor([[[[0.0000, 0.0000, 0.0000,  ..., 0.0000, 0.0000, 0.0000],\n",
              "           [0.0000, 0.0000, 0.0000,  ..., 0.0000, 0.0000, 0.0000],\n",
              "           [0.0000, 0.0000, 0.0000,  ..., 0.0000, 0.0000, 0.0000],\n",
              "           ...,\n",
              "           [0.0000, 0.0000, 0.0000,  ..., 0.0000, 0.0000, 0.0000],\n",
              "           [0.0000, 0.0000, 0.0000,  ..., 0.0000, 0.0000, 0.0000],\n",
              "           [0.0000, 0.0000, 0.0000,  ..., 0.0000, 0.0000, 0.0000]]],\n",
              " \n",
              " \n",
              "         [[[0.0000, 0.0000, 0.0000,  ..., 0.0000, 0.0000, 0.0000],\n",
              "           [0.0000, 0.0000, 0.0000,  ..., 0.0000, 0.0000, 0.0000],\n",
              "           [0.0000, 0.0000, 0.0000,  ..., 0.0000, 0.0000, 0.0000],\n",
              "           ...,\n",
              "           [0.0000, 0.0000, 0.0000,  ..., 0.0000, 0.0000, 0.0000],\n",
              "           [0.0000, 0.0000, 0.0000,  ..., 0.0000, 0.0000, 0.0000],\n",
              "           [0.0000, 0.0000, 0.0000,  ..., 0.0000, 0.0000, 0.0000]]],\n",
              " \n",
              " \n",
              "         [[[0.0000, 0.0000, 0.0000,  ..., 0.0000, 0.0000, 0.0000],\n",
              "           [0.0000, 0.0000, 0.0000,  ..., 0.0000, 0.0000, 0.0000],\n",
              "           [0.0000, 0.0000, 0.0000,  ..., 0.0000, 0.0000, 0.0000],\n",
              "           ...,\n",
              "           [0.0000, 0.0000, 0.0000,  ..., 0.0000, 0.0000, 0.0000],\n",
              "           [0.0000, 0.0000, 0.0000,  ..., 0.0000, 0.0000, 0.0000],\n",
              "           [0.0000, 0.0000, 0.0000,  ..., 0.0000, 0.0000, 0.0000]]],\n",
              " \n",
              " \n",
              "         ...,\n",
              " \n",
              " \n",
              "         [[[0.0000, 0.0000, 0.0000,  ..., 0.0000, 0.0000, 0.0000],\n",
              "           [0.0000, 0.0000, 0.0000,  ..., 0.0000, 0.0000, 0.0000],\n",
              "           [0.0000, 0.0000, 0.0000,  ..., 0.0000, 0.0000, 0.0000],\n",
              "           ...,\n",
              "           [0.0000, 0.0000, 0.0000,  ..., 0.0000, 0.0000, 0.0000],\n",
              "           [0.0000, 0.0000, 0.0000,  ..., 0.0000, 0.0000, 0.0000],\n",
              "           [0.0000, 0.0000, 0.0000,  ..., 0.0000, 0.0000, 0.0000]]],\n",
              " \n",
              " \n",
              "         [[[0.0000, 0.0000, 0.0000,  ..., 0.0000, 0.0000, 0.0000],\n",
              "           [0.0000, 0.0000, 0.0000,  ..., 0.0000, 0.0000, 0.0000],\n",
              "           [0.0000, 0.0000, 0.0000,  ..., 0.0000, 0.0000, 0.0000],\n",
              "           ...,\n",
              "           [0.0000, 0.0000, 0.0000,  ..., 0.9020, 0.9608, 0.8000],\n",
              "           [0.0000, 0.0000, 0.0000,  ..., 0.6745, 0.7255, 0.4000],\n",
              "           [0.0000, 0.0000, 0.0000,  ..., 0.0000, 0.0000, 0.0000]]],\n",
              " \n",
              " \n",
              "         [[[0.0000, 0.0000, 0.0000,  ..., 0.0000, 0.0000, 0.0000],\n",
              "           [0.0000, 0.0000, 0.0000,  ..., 0.0000, 0.0000, 0.0000],\n",
              "           [0.0000, 0.0000, 0.0000,  ..., 0.0000, 0.0000, 0.0000],\n",
              "           ...,\n",
              "           [0.0000, 0.0000, 0.0000,  ..., 0.0000, 0.0000, 0.0000],\n",
              "           [0.0000, 0.0000, 0.0000,  ..., 0.0000, 0.0000, 0.0000],\n",
              "           [0.0000, 0.0000, 0.0000,  ..., 0.0000, 0.0000, 0.0000]]]]),\n",
              " tensor([9, 2, 1, 1, 6, 1, 4, 6, 5, 7, 4, 5, 7, 3, 4, 1, 2, 4, 8, 0, 2, 5, 7, 9,\n",
              "         1, 4, 6, 0, 9, 3, 8, 8])]"
            ]
          },
          "metadata": {},
          "execution_count": 47
        }
      ]
    },
    {
      "cell_type": "code",
      "source": [
        "len(data)"
      ],
      "metadata": {
        "colab": {
          "base_uri": "https://localhost:8080/"
        },
        "id": "8eEHy3ck4pyH",
        "outputId": "fb816d56-2fa3-4224-bb2f-e2f159a1c7e8"
      },
      "execution_count": null,
      "outputs": [
        {
          "output_type": "execute_result",
          "data": {
            "text/plain": [
              "2"
            ]
          },
          "metadata": {},
          "execution_count": 48
        }
      ]
    },
    {
      "cell_type": "code",
      "source": [
        "images, labels = data"
      ],
      "metadata": {
        "id": "9hlfvNFR4wyE"
      },
      "execution_count": null,
      "outputs": []
    },
    {
      "cell_type": "code",
      "source": [
        "images.shape"
      ],
      "metadata": {
        "colab": {
          "base_uri": "https://localhost:8080/"
        },
        "id": "kEU5bou242Vc",
        "outputId": "75ed5fc5-e5d7-4793-a1ac-3046e51567b9"
      },
      "execution_count": null,
      "outputs": [
        {
          "output_type": "execute_result",
          "data": {
            "text/plain": [
              "torch.Size([32, 1, 28, 28])"
            ]
          },
          "metadata": {},
          "execution_count": 50
        }
      ]
    },
    {
      "cell_type": "code",
      "source": [
        "idx = 2\n",
        "img = images[idx]\n",
        "img.shape"
      ],
      "metadata": {
        "colab": {
          "base_uri": "https://localhost:8080/"
        },
        "id": "zYPuXdEm44LQ",
        "outputId": "7f317a18-6232-4906-8abb-c70208d77ccb"
      },
      "execution_count": null,
      "outputs": [
        {
          "output_type": "execute_result",
          "data": {
            "text/plain": [
              "torch.Size([1, 28, 28])"
            ]
          },
          "metadata": {},
          "execution_count": 51
        }
      ]
    },
    {
      "cell_type": "code",
      "source": [
        "label = labels[idx]\n",
        "label_map[label.item()]"
      ],
      "metadata": {
        "colab": {
          "base_uri": "https://localhost:8080/",
          "height": 36
        },
        "id": "k4d9WdaL5Z8-",
        "outputId": "be73bb43-e93e-42b0-cffb-27f7936729c0"
      },
      "execution_count": null,
      "outputs": [
        {
          "output_type": "execute_result",
          "data": {
            "text/plain": [
              "'Trouser'"
            ],
            "application/vnd.google.colaboratory.intrinsic+json": {
              "type": "string"
            }
          },
          "metadata": {},
          "execution_count": 57
        }
      ]
    },
    {
      "cell_type": "code",
      "source": [
        "plt.imshow(img.squeeze(), cmap=\"gray\")"
      ],
      "metadata": {
        "colab": {
          "base_uri": "https://localhost:8080/",
          "height": 282
        },
        "id": "t28DVVRP5GLf",
        "outputId": "089fa9a9-2d54-4dc4-8f7a-a0dd6f078cc9"
      },
      "execution_count": null,
      "outputs": [
        {
          "output_type": "execute_result",
          "data": {
            "text/plain": [
              "<matplotlib.image.AxesImage at 0x7f1a8018b5d0>"
            ]
          },
          "metadata": {},
          "execution_count": 54
        },
        {
          "output_type": "display_data",
          "data": {
            "text/plain": [
              "<Figure size 432x288 with 1 Axes>"
            ],
            "image/png": "[encoded data removed]"
          },
          "metadata": {
            "needs_background": "light"
          }
        }
      ]
    },
    {
      "cell_type": "code",
      "source": [
        "img.unsqueeze(dim=1).shape"
      ],
      "metadata": {
        "colab": {
          "base_uri": "https://localhost:8080/"
        },
        "id": "e2i4cSj05wrg",
        "outputId": "4a0decc7-9e21-46bd-b797-41a5964fb052"
      },
      "execution_count": null,
      "outputs": [
        {
          "output_type": "execute_result",
          "data": {
            "text/plain": [
              "torch.Size([1, 1, 28, 28])"
            ]
          },
          "metadata": {},
          "execution_count": 62
        }
      ]
    },
    {
      "cell_type": "code",
      "source": [
        "logit = model(img.unsqueeze(dim=1).to(config.DEVICE))\n",
        "logit"
      ],
      "metadata": {
        "colab": {
          "base_uri": "https://localhost:8080/"
        },
        "id": "jURrIxmv5Mbv",
        "outputId": "d0162529-4138-47fe-b6d2-83eee29889f2"
      },
      "execution_count": null,
      "outputs": [
        {
          "output_type": "execute_result",
          "data": {
            "text/plain": [
              "tensor([[   1.9107,   32.9941,  -36.2391,  -12.3562,  -45.1147, -144.5987,\n",
              "           -9.1314,  -82.8379,  -24.2255, -118.4811]], device='cuda:0',\n",
              "       grad_fn=<AddmmBackward0>)"
            ]
          },
          "metadata": {},
          "execution_count": 65
        }
      ]
    },
    {
      "cell_type": "code",
      "source": [
        "sum([   1.9107,   32.9941,  -36.2391,  -12.3562,  -45.1147, -144.5987,\n",
        "           -9.1314,  -82.8379,  -24.2255, -118.4811])"
      ],
      "metadata": {
        "colab": {
          "base_uri": "https://localhost:8080/"
        },
        "id": "cE6HXBbz5sOm",
        "outputId": "47b7cf6b-77c5-449d-e070-b0aa6a904741"
      },
      "execution_count": null,
      "outputs": [
        {
          "output_type": "execute_result",
          "data": {
            "text/plain": [
              "-438.0798"
            ]
          },
          "metadata": {},
          "execution_count": 66
        }
      ]
    },
    {
      "cell_type": "code",
      "source": [
        "pred_prob = F.softmax(logit, dim=1)\n",
        "pred_prob"
      ],
      "metadata": {
        "colab": {
          "base_uri": "https://localhost:8080/"
        },
        "id": "eVfVs3To6RXL",
        "outputId": "9d148b22-2106-4a38-e005-dd4fe6d91f54"
      },
      "execution_count": null,
      "outputs": [
        {
          "output_type": "execute_result",
          "data": {
            "text/plain": [
              "tensor([[3.1670e-14, 1.0000e+00, 8.5586e-31, 2.0167e-20, 1.1961e-34, 0.0000e+00,\n",
              "         5.0714e-19, 0.0000e+00, 1.4121e-25, 0.0000e+00]], device='cuda:0',\n",
              "       grad_fn=<SoftmaxBackward0>)"
            ]
          },
          "metadata": {},
          "execution_count": 70
        }
      ]
    },
    {
      "cell_type": "code",
      "source": [
        "sum([3.1670e-14, 1.0000e+00, 8.5586e-31, 2.0167e-20, 1.1961e-34, 0.0000e+00,\n",
        "         5.0714e-19, 0.0000e+00, 1.4121e-25, 0.0000e+00])"
      ],
      "metadata": {
        "colab": {
          "base_uri": "https://localhost:8080/"
        },
        "id": "HBKJRoXT6YA8",
        "outputId": "7070c30b-0eb4-441b-a032-652e8f9ef283"
      },
      "execution_count": null,
      "outputs": [
        {
          "output_type": "execute_result",
          "data": {
            "text/plain": [
              "1.0000000000000318"
            ]
          },
          "metadata": {},
          "execution_count": 71
        }
      ]
    },
    {
      "cell_type": "code",
      "source": [
        "argmax = torch.argmax(pred_prob).item()\n",
        "argmax"
      ],
      "metadata": {
        "colab": {
          "base_uri": "https://localhost:8080/"
        },
        "id": "2An3frKh6fST",
        "outputId": "9c5d7d4d-267c-4606-a9f4-eb889797e93b"
      },
      "execution_count": null,
      "outputs": [
        {
          "output_type": "execute_result",
          "data": {
            "text/plain": [
              "1"
            ]
          },
          "metadata": {},
          "execution_count": 72
        }
      ]
    },
    {
      "cell_type": "code",
      "source": [
        "label_map[argmax]"
      ],
      "metadata": {
        "colab": {
          "base_uri": "https://localhost:8080/",
          "height": 36
        },
        "id": "eHxLbJaT6sbZ",
        "outputId": "1198778f-1526-4520-fe56-692f00a5a79d"
      },
      "execution_count": null,
      "outputs": [
        {
          "output_type": "execute_result",
          "data": {
            "text/plain": [
              "'Trouser'"
            ],
            "application/vnd.google.colaboratory.intrinsic+json": {
              "type": "string"
            }
          },
          "metadata": {},
          "execution_count": 73
        }
      ]
    },
    {
      "cell_type": "code",
      "source": [
        "def predict(data, model, label_map, device, idx=0):\n",
        "  images, labels = data\n",
        "  img = images[idx]\n",
        "  label = labels[idx]\n",
        "\n",
        "  plt.imshow(img.squeeze(), cmap=\"gray\")\n",
        "  logit = model(img.unsqueeze(dim=1).to(config.DEVICE))\n",
        "  pred_prob = F.softmax(logit, dim=1)\n",
        "  argmax = torch.argmax(pred_prob).item()\n",
        "\n",
        "  predicted_label = label_map[argmax]\n",
        "  actual_label = label_map[label.item()]\n",
        "\n",
        "  plt.title(f\"actual: {actual_label} | predicted: {predicted_label}\")\n",
        "  plt.axis(\"off\")\n",
        "  return predicted_label, actual_label\n"
      ],
      "metadata": {
        "id": "Z_7xSJa86xAZ"
      },
      "execution_count": null,
      "outputs": []
    },
    {
      "cell_type": "code",
      "source": [
        "predict(data, model, label_map, config.DEVICE, idx=2)"
      ],
      "metadata": {
        "colab": {
          "base_uri": "https://localhost:8080/",
          "height": 282
        },
        "id": "N36tDv747zj5",
        "outputId": "d1d05732-acd2-4ce3-f7cd-b14bba0eb5d4"
      },
      "execution_count": null,
      "outputs": [
        {
          "output_type": "execute_result",
          "data": {
            "text/plain": [
              "('Trouser', 'Trouser')"
            ]
          },
          "metadata": {},
          "execution_count": 77
        },
        {
          "output_type": "display_data",
          "data": {
            "text/plain": [
              "<Figure size 432x288 with 1 Axes>"
            ],
            "image/png": "[encoded data removed]"
          },
          "metadata": {
            "needs_background": "light"
          }
        }
      ]
    },
    {
      "cell_type": "code",
      "source": [],
      "metadata": {
        "id": "LXlIcVOt7_B9"
      },
      "execution_count": null,
      "outputs": []
    }
  ]
}