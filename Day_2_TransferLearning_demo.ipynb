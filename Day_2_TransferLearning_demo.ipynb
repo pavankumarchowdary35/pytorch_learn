{
  "nbformat": 4,
  "nbformat_minor": 0,
  "metadata": {
    "colab": {
      "provenance": [],
      "include_colab_link": true
    },
    "kernelspec": {
      "name": "python3",
      "display_name": "Python 3"
    },
    "language_info": {
      "name": "python"
    },
    "accelerator": "GPU",
    "widgets": {
      "application/vnd.jupyter.widget-state+json": {
        "5089436a5ae54b618f216535bb2febfe": {
          "model_module": "@jupyter-widgets/controls",
          "model_name": "HBoxModel",
          "model_module_version": "1.5.0",
          "state": {
            "_dom_classes": [],
            "_model_module": "@jupyter-widgets/controls",
            "_model_module_version": "1.5.0",
            "_model_name": "HBoxModel",
            "_view_count": null,
            "_view_module": "@jupyter-widgets/controls",
            "_view_module_version": "1.5.0",
            "_view_name": "HBoxView",
            "box_style": "",
            "children": [
              "IPY_MODEL_81a8628a57a2428489130e6df409409e",
              "IPY_MODEL_264b37f12870453b89284e2468e23706",
              "IPY_MODEL_b40924f28587460e81c526d866efe42a"
            ],
            "layout": "IPY_MODEL_490a4f26e7384c66a514f91596c17891"
          }
        },
        "81a8628a57a2428489130e6df409409e": {
          "model_module": "@jupyter-widgets/controls",
          "model_name": "HTMLModel",
          "model_module_version": "1.5.0",
          "state": {
            "_dom_classes": [],
            "_model_module": "@jupyter-widgets/controls",
            "_model_module_version": "1.5.0",
            "_model_name": "HTMLModel",
            "_view_count": null,
            "_view_module": "@jupyter-widgets/controls",
            "_view_module_version": "1.5.0",
            "_view_name": "HTMLView",
            "description": "",
            "description_tooltip": null,
            "layout": "IPY_MODEL_d0f517c490164bcdb13d895de48a8cc2",
            "placeholder": "​",
            "style": "IPY_MODEL_4873168310ba4d1d99bae50e8a23de49",
            "value": "100%"
          }
        },
        "264b37f12870453b89284e2468e23706": {
          "model_module": "@jupyter-widgets/controls",
          "model_name": "FloatProgressModel",
          "model_module_version": "1.5.0",
          "state": {
            "_dom_classes": [],
            "_model_module": "@jupyter-widgets/controls",
            "_model_module_version": "1.5.0",
            "_model_name": "FloatProgressModel",
            "_view_count": null,
            "_view_module": "@jupyter-widgets/controls",
            "_view_module_version": "1.5.0",
            "_view_name": "ProgressView",
            "bar_style": "success",
            "description": "",
            "description_tooltip": null,
            "layout": "IPY_MODEL_4214fe0ac3fa4dfb8b9313b0c35374fb",
            "max": 244408911,
            "min": 0,
            "orientation": "horizontal",
            "style": "IPY_MODEL_cbe3b46cf7d74a82b5573b4d6d34ad78",
            "value": 244408911
          }
        },
        "b40924f28587460e81c526d866efe42a": {
          "model_module": "@jupyter-widgets/controls",
          "model_name": "HTMLModel",
          "model_module_version": "1.5.0",
          "state": {
            "_dom_classes": [],
            "_model_module": "@jupyter-widgets/controls",
            "_model_module_version": "1.5.0",
            "_model_name": "HTMLModel",
            "_view_count": null,
            "_view_module": "@jupyter-widgets/controls",
            "_view_module_version": "1.5.0",
            "_view_name": "HTMLView",
            "description": "",
            "description_tooltip": null,
            "layout": "IPY_MODEL_7e5a16180c9c4c72a60785a7bbb791bf",
            "placeholder": "​",
            "style": "IPY_MODEL_1ca0d44c766e4553834e0c2d379f2510",
            "value": " 233M/233M [00:02&lt;00:00, 129MB/s]"
          }
        },
        "490a4f26e7384c66a514f91596c17891": {
          "model_module": "@jupyter-widgets/base",
          "model_name": "LayoutModel",
          "model_module_version": "1.2.0",
          "state": {
            "_model_module": "@jupyter-widgets/base",
            "_model_module_version": "1.2.0",
            "_model_name": "LayoutModel",
            "_view_count": null,
            "_view_module": "@jupyter-widgets/base",
            "_view_module_version": "1.2.0",
            "_view_name": "LayoutView",
            "align_content": null,
            "align_items": null,
            "align_self": null,
            "border": null,
            "bottom": null,
            "display": null,
            "flex": null,
            "flex_flow": null,
            "grid_area": null,
            "grid_auto_columns": null,
            "grid_auto_flow": null,
            "grid_auto_rows": null,
            "grid_column": null,
            "grid_gap": null,
            "grid_row": null,
            "grid_template_areas": null,
            "grid_template_columns": null,
            "grid_template_rows": null,
            "height": null,
            "justify_content": null,
            "justify_items": null,
            "left": null,
            "margin": null,
            "max_height": null,
            "max_width": null,
            "min_height": null,
            "min_width": null,
            "object_fit": null,
            "object_position": null,
            "order": null,
            "overflow": null,
            "overflow_x": null,
            "overflow_y": null,
            "padding": null,
            "right": null,
            "top": null,
            "visibility": null,
            "width": null
          }
        },
        "d0f517c490164bcdb13d895de48a8cc2": {
          "model_module": "@jupyter-widgets/base",
          "model_name": "LayoutModel",
          "model_module_version": "1.2.0",
          "state": {
            "_model_module": "@jupyter-widgets/base",
            "_model_module_version": "1.2.0",
            "_model_name": "LayoutModel",
            "_view_count": null,
            "_view_module": "@jupyter-widgets/base",
            "_view_module_version": "1.2.0",
            "_view_name": "LayoutView",
            "align_content": null,
            "align_items": null,
            "align_self": null,
            "border": null,
            "bottom": null,
            "display": null,
            "flex": null,
            "flex_flow": null,
            "grid_area": null,
            "grid_auto_columns": null,
            "grid_auto_flow": null,
            "grid_auto_rows": null,
            "grid_column": null,
            "grid_gap": null,
            "grid_row": null,
            "grid_template_areas": null,
            "grid_template_columns": null,
            "grid_template_rows": null,
            "height": null,
            "justify_content": null,
            "justify_items": null,
            "left": null,
            "margin": null,
            "max_height": null,
            "max_width": null,
            "min_height": null,
            "min_width": null,
            "object_fit": null,
            "object_position": null,
            "order": null,
            "overflow": null,
            "overflow_x": null,
            "overflow_y": null,
            "padding": null,
            "right": null,
            "top": null,
            "visibility": null,
            "width": null
          }
        },
        "4873168310ba4d1d99bae50e8a23de49": {
          "model_module": "@jupyter-widgets/controls",
          "model_name": "DescriptionStyleModel",
          "model_module_version": "1.5.0",
          "state": {
            "_model_module": "@jupyter-widgets/controls",
            "_model_module_version": "1.5.0",
            "_model_name": "DescriptionStyleModel",
            "_view_count": null,
            "_view_module": "@jupyter-widgets/base",
            "_view_module_version": "1.2.0",
            "_view_name": "StyleView",
            "description_width": ""
          }
        },
        "4214fe0ac3fa4dfb8b9313b0c35374fb": {
          "model_module": "@jupyter-widgets/base",
          "model_name": "LayoutModel",
          "model_module_version": "1.2.0",
          "state": {
            "_model_module": "@jupyter-widgets/base",
            "_model_module_version": "1.2.0",
            "_model_name": "LayoutModel",
            "_view_count": null,
            "_view_module": "@jupyter-widgets/base",
            "_view_module_version": "1.2.0",
            "_view_name": "LayoutView",
            "align_content": null,
            "align_items": null,
            "align_self": null,
            "border": null,
            "bottom": null,
            "display": null,
            "flex": null,
            "flex_flow": null,
            "grid_area": null,
            "grid_auto_columns": null,
            "grid_auto_flow": null,
            "grid_auto_rows": null,
            "grid_column": null,
            "grid_gap": null,
            "grid_row": null,
            "grid_template_areas": null,
            "grid_template_columns": null,
            "grid_template_rows": null,
            "height": null,
            "justify_content": null,
            "justify_items": null,
            "left": null,
            "margin": null,
            "max_height": null,
            "max_width": null,
            "min_height": null,
            "min_width": null,
            "object_fit": null,
            "object_position": null,
            "order": null,
            "overflow": null,
            "overflow_x": null,
            "overflow_y": null,
            "padding": null,
            "right": null,
            "top": null,
            "visibility": null,
            "width": null
          }
        },
        "cbe3b46cf7d74a82b5573b4d6d34ad78": {
          "model_module": "@jupyter-widgets/controls",
          "model_name": "ProgressStyleModel",
          "model_module_version": "1.5.0",
          "state": {
            "_model_module": "@jupyter-widgets/controls",
            "_model_module_version": "1.5.0",
            "_model_name": "ProgressStyleModel",
            "_view_count": null,
            "_view_module": "@jupyter-widgets/base",
            "_view_module_version": "1.2.0",
            "_view_name": "StyleView",
            "bar_color": null,
            "description_width": ""
          }
        },
        "7e5a16180c9c4c72a60785a7bbb791bf": {
          "model_module": "@jupyter-widgets/base",
          "model_name": "LayoutModel",
          "model_module_version": "1.2.0",
          "state": {
            "_model_module": "@jupyter-widgets/base",
            "_model_module_version": "1.2.0",
            "_model_name": "LayoutModel",
            "_view_count": null,
            "_view_module": "@jupyter-widgets/base",
            "_view_module_version": "1.2.0",
            "_view_name": "LayoutView",
            "align_content": null,
            "align_items": null,
            "align_self": null,
            "border": null,
            "bottom": null,
            "display": null,
            "flex": null,
            "flex_flow": null,
            "grid_area": null,
            "grid_auto_columns": null,
            "grid_auto_flow": null,
            "grid_auto_rows": null,
            "grid_column": null,
            "grid_gap": null,
            "grid_row": null,
            "grid_template_areas": null,
            "grid_template_columns": null,
            "grid_template_rows": null,
            "height": null,
            "justify_content": null,
            "justify_items": null,
            "left": null,
            "margin": null,
            "max_height": null,
            "max_width": null,
            "min_height": null,
            "min_width": null,
            "object_fit": null,
            "object_position": null,
            "order": null,
            "overflow": null,
            "overflow_x": null,
            "overflow_y": null,
            "padding": null,
            "right": null,
            "top": null,
            "visibility": null,
            "width": null
          }
        },
        "1ca0d44c766e4553834e0c2d379f2510": {
          "model_module": "@jupyter-widgets/controls",
          "model_name": "DescriptionStyleModel",
          "model_module_version": "1.5.0",
          "state": {
            "_model_module": "@jupyter-widgets/controls",
            "_model_module_version": "1.5.0",
            "_model_name": "DescriptionStyleModel",
            "_view_count": null,
            "_view_module": "@jupyter-widgets/base",
            "_view_module_version": "1.2.0",
            "_view_name": "StyleView",
            "description_width": ""
          }
        }
      }
    }
  },
  "cells": [
    {
      "cell_type": "markdown",
      "metadata": {
        "id": "view-in-github",
        "colab_type": "text"
      },
      "source": [
        "<a href=\"https://colab.research.google.com/github/pavankumarchowdary35/pytorch_learn/blob/main/Day_2_TransferLearning_demo.ipynb\" target=\"_parent\"><img src=\"https://colab.research.google.com/assets/colab-badge.svg\" alt=\"Open In Colab\"/></a>"
      ]
    },
    {
      "cell_type": "code",
      "execution_count": null,
      "metadata": {
        "id": "aQ0NhoLZp00E"
      },
      "outputs": [],
      "source": [
        "import os\n",
        "ROOT = \"/content/drive/MyDrive/001_SUNNY_BHAVEEN_CHANDRA/001_My_Classes/FSDS_Feb_Batch/ALL_NOTES/Day-Pytorch-CNN\"\n",
        "os.chdir(ROOT)"
      ]
    },
    {
      "cell_type": "code",
      "source": [
        "!pwd"
      ],
      "metadata": {
        "colab": {
          "base_uri": "https://localhost:8080/"
        },
        "id": "OQ2R1CKlq_KP",
        "outputId": "66d604b8-2737-45f9-861e-3c93cba0cb01"
      },
      "execution_count": null,
      "outputs": [
        {
          "output_type": "stream",
          "name": "stdout",
          "text": [
            "/content/drive/MyDrive/001_SUNNY_BHAVEEN_CHANDRA/001_My_Classes/FSDS_Feb_Batch/ALL_NOTES/Day-Pytorch-CNN\n"
          ]
        }
      ]
    },
    {
      "cell_type": "code",
      "source": [
        "!ls"
      ],
      "metadata": {
        "colab": {
          "base_uri": "https://localhost:8080/"
        },
        "id": "ugIvhD3HrAn1",
        "outputId": "ec0afc7c-3ba1-4956-bafc-47ba6099fedc"
      },
      "execution_count": null,
      "outputs": [
        {
          "output_type": "stream",
          "name": "stdout",
          "text": [
            "'Copy of demo.ipynb'\t\t       hymenoptera_data\n",
            "'Day -2 TransferLearning demo.ipynb'   model_dir\n",
            " demo.ipynb\t\t\t      'TransferLearning demo.ipynb'\n",
            " FashionMNISTDir\n"
          ]
        }
      ]
    },
    {
      "cell_type": "code",
      "source": [
        "import os\n",
        "import numpy as np\n",
        "import matplotlib.pyplot as plt\n",
        "import seaborn as sns\n",
        "import pandas as pd\n",
        "import torch\n",
        "import torch.nn as nn\n",
        "from torch.utils.data import DataLoader\n",
        "from torchvision import transforms, datasets, models\n",
        "import torch.nn.functional as F\n",
        "from sklearn.metrics import confusion_matrix\n",
        "from tqdm import tqdm\n",
        "\n",
        "import urllib.request as request"
      ],
      "metadata": {
        "id": "P7a8B9xErCE1"
      },
      "execution_count": 1,
      "outputs": []
    },
    {
      "cell_type": "code",
      "source": [],
      "metadata": {
        "id": "VkFD3YINCW-8"
      },
      "execution_count": null,
      "outputs": []
    },
    {
      "cell_type": "code",
      "source": [
        "class Config:\n",
        "  def __init__(self):\n",
        "    self.ROOT_DATA_DIR = \"hymenoptera_data\"\n",
        "    self.EPOCH = 10\n",
        "    self.BATCH_SIZE = 32\n",
        "    self.LEARNING_RATE = 0.01\n",
        "    self.IMAGE_SIZE = (224, 224)\n",
        "    self.DEVICE = \"cuda\" if torch.cuda.is_available() else \"cpu\"\n",
        "    print(f\"this notebook is using device: {self.DEVICE}\")\n",
        "    self.SEED = 2022\n",
        "\n",
        "  def create_dir(self, dir_path):\n",
        "    os.makedirs(dir_path, exist_ok=True)\n",
        "    print(f\"{dir_path} directory is created\")\n",
        "\n",
        "config = Config()"
      ],
      "metadata": {
        "colab": {
          "base_uri": "https://localhost:8080/"
        },
        "id": "HNHLKpORrMS_",
        "outputId": "4af58da3-4bd1-49ca-8810-c704b8534f97"
      },
      "execution_count": 2,
      "outputs": [
        {
          "output_type": "stream",
          "name": "stdout",
          "text": [
            "this notebook is using device: cuda\n"
          ]
        }
      ]
    },
    {
      "cell_type": "markdown",
      "source": [
        "## Download data"
      ],
      "metadata": {
        "id": "UWW0jrOQB_MI"
      }
    },
    {
      "cell_type": "code",
      "source": [
        "data_URL = \"https://download.pytorch.org/tutorial/hymenoptera_data.zip\""
      ],
      "metadata": {
        "id": "NDZrOK6oB-k1"
      },
      "execution_count": 3,
      "outputs": []
    },
    {
      "cell_type": "code",
      "source": [
        "config.create_dir(dir_path=config.ROOT_DATA_DIR)"
      ],
      "metadata": {
        "colab": {
          "base_uri": "https://localhost:8080/"
        },
        "id": "JpwyjfPlDLbq",
        "outputId": "2dac1979-4f41-4170-ce77-d929bba96035"
      },
      "execution_count": 4,
      "outputs": [
        {
          "output_type": "stream",
          "name": "stdout",
          "text": [
            "hymenoptera_data directory is created\n"
          ]
        }
      ]
    },
    {
      "cell_type": "code",
      "source": [
        "data_zip_file = \"data.zip\"\n",
        "data_file_path = os.path.join(config.ROOT_DATA_DIR, data_zip_file)\n",
        "\n",
        "request.urlretrieve(data_URL, data_file_path)"
      ],
      "metadata": {
        "colab": {
          "base_uri": "https://localhost:8080/"
        },
        "id": "NGpyPVM2DXH1",
        "outputId": "c3bf050f-eb83-4c16-f8cb-ba790d96c1d8"
      },
      "execution_count": 5,
      "outputs": [
        {
          "output_type": "execute_result",
          "data": {
            "text/plain": [
              "('hymenoptera_data/data.zip', <http.client.HTTPMessage at 0x7f99aad7e380>)"
            ]
          },
          "metadata": {},
          "execution_count": 5
        }
      ]
    },
    {
      "cell_type": "code",
      "source": [
        "from zipfile import ZipFile\n",
        "\n",
        "def unzip_file(source: str, dest: str) -> None:\n",
        "    print(f\"extraction started...\")\n",
        "\n",
        "    with ZipFile(source, \"r\") as zip_f:\n",
        "        zip_f.extractall(dest)\n",
        "    print(f\"extracted {source} to {dest}\")"
      ],
      "metadata": {
        "id": "oo66ey5OEPTc"
      },
      "execution_count": 6,
      "outputs": []
    },
    {
      "cell_type": "code",
      "source": [
        "unzip_file(data_file_path, config.ROOT_DATA_DIR)"
      ],
      "metadata": {
        "colab": {
          "base_uri": "https://localhost:8080/"
        },
        "id": "_ScBRlfyEfjr",
        "outputId": "e24d1e7d-6d78-46df-adcf-e7d42c420efd"
      },
      "execution_count": 7,
      "outputs": [
        {
          "output_type": "stream",
          "name": "stdout",
          "text": [
            "extraction started...\n",
            "extracted hymenoptera_data/data.zip to hymenoptera_data\n"
          ]
        }
      ]
    },
    {
      "cell_type": "markdown",
      "source": [
        "## Create data loaders-"
      ],
      "metadata": {
        "id": "An8zvvJiE-or"
      }
    },
    {
      "cell_type": "code",
      "source": [
        "from pathlib import Path"
      ],
      "metadata": {
        "id": "aYV0eeQWFv3t"
      },
      "execution_count": null,
      "outputs": []
    },
    {
      "cell_type": "code",
      "source": [
        "Path(\"hymenoptera_data/hymenoptera_data/train\")"
      ],
      "metadata": {
        "colab": {
          "base_uri": "https://localhost:8080/"
        },
        "id": "PYjNLS3KGodO",
        "outputId": "6e5a7eda-38a8-4e24-90ad-f49aae5b8813"
      },
      "execution_count": null,
      "outputs": [
        {
          "output_type": "execute_result",
          "data": {
            "text/plain": [
              "PosixPath('hymenoptera_data/hymenoptera_data/train')"
            ]
          },
          "metadata": {},
          "execution_count": 18
        }
      ]
    },
    {
      "cell_type": "code",
      "source": [
        "train_path = Path(\"hymenoptera_data/hymenoptera_data/train\")\n",
        "test_path = Path(\"hymenoptera_data/hymenoptera_data/val\")\n"
      ],
      "metadata": {
        "id": "9M-M7WtCE8-x"
      },
      "execution_count": null,
      "outputs": []
    },
    {
      "cell_type": "markdown",
      "source": [
        "mean of the each channel of the image\n",
        "\n",
        "for 28, 28 img size\n",
        "mean = sum(value of the pixels)/784\n",
        "std =\n",
        "\n",
        "(data - mean) / std"
      ],
      "metadata": {
        "id": "Xs8aaji4H_AF"
      }
    },
    {
      "cell_type": "code",
      "source": [
        "mean = torch.tensor([0.5, 0.5, 0.5])\n",
        "std = torch.tensor([0.5, 0.5, 0.5])"
      ],
      "metadata": {
        "id": "Kru1Yh3iHEsD"
      },
      "execution_count": null,
      "outputs": []
    },
    {
      "cell_type": "code",
      "source": [
        "train_tranforms = transforms.Compose([\n",
        "                                      transforms.Resize(config.IMAGE_SIZE),\n",
        "                                      transforms.RandomRotation(degrees=20),\n",
        "                                      transforms.ToTensor(),\n",
        "                                      transforms.Normalize(mean, std)\n",
        "\n",
        "])\n",
        "\n",
        "test_tranforms = transforms.Compose([\n",
        "                                      transforms.Resize(config.IMAGE_SIZE),\n",
        "                                      transforms.ToTensor(),\n",
        "                                      transforms.Normalize(mean, std)\n",
        "\n",
        "])"
      ],
      "metadata": {
        "id": "Hup0r7piIcFr"
      },
      "execution_count": null,
      "outputs": []
    },
    {
      "cell_type": "code",
      "source": [
        "train_data = datasets.ImageFolder(root=train_path, transform=train_tranforms)\n",
        "test_data = datasets.ImageFolder(root=test_path, transform=test_tranforms)"
      ],
      "metadata": {
        "id": "NaLEwXSxJGMU"
      },
      "execution_count": null,
      "outputs": []
    },
    {
      "cell_type": "code",
      "source": [
        "label_map = train_data.class_to_idx\n",
        "label_map"
      ],
      "metadata": {
        "colab": {
          "base_uri": "https://localhost:8080/"
        },
        "id": "lDd6SG-5JblF",
        "outputId": "08227b88-f63b-4c81-8ce5-de2aaeb6aeec"
      },
      "execution_count": null,
      "outputs": [
        {
          "output_type": "execute_result",
          "data": {
            "text/plain": [
              "{'ants': 0, 'bees': 1}"
            ]
          },
          "metadata": {},
          "execution_count": 23
        }
      ]
    },
    {
      "cell_type": "code",
      "source": [
        "train_data"
      ],
      "metadata": {
        "colab": {
          "base_uri": "https://localhost:8080/"
        },
        "id": "OrD1UV_oJoIm",
        "outputId": "19705e6a-e45e-45ad-c2d9-ecf0304c982d"
      },
      "execution_count": null,
      "outputs": [
        {
          "output_type": "execute_result",
          "data": {
            "text/plain": [
              "Dataset ImageFolder\n",
              "    Number of datapoints: 244\n",
              "    Root location: hymenoptera_data/hymenoptera_data/train\n",
              "    StandardTransform\n",
              "Transform: Compose(\n",
              "               Resize(size=(224, 224), interpolation=bilinear, max_size=None, antialias=None)\n",
              "               RandomRotation(degrees=[-20.0, 20.0], interpolation=nearest, expand=False, fill=0)\n",
              "               ToTensor()\n",
              "               Normalize(mean=tensor([0.5000, 0.5000, 0.5000]), std=tensor([0.5000, 0.5000, 0.5000]))\n",
              "           )"
            ]
          },
          "metadata": {},
          "execution_count": 24
        }
      ]
    },
    {
      "cell_type": "code",
      "source": [
        "test_data"
      ],
      "metadata": {
        "colab": {
          "base_uri": "https://localhost:8080/"
        },
        "id": "QQYxtdIHJvrI",
        "outputId": "66d092a0-fb50-4b9e-8c3b-0cd021a83bec"
      },
      "execution_count": null,
      "outputs": [
        {
          "output_type": "execute_result",
          "data": {
            "text/plain": [
              "Dataset ImageFolder\n",
              "    Number of datapoints: 153\n",
              "    Root location: hymenoptera_data/hymenoptera_data/val\n",
              "    StandardTransform\n",
              "Transform: Compose(\n",
              "               Resize(size=(224, 224), interpolation=bilinear, max_size=None, antialias=None)\n",
              "               ToTensor()\n",
              "               Normalize(mean=tensor([0.5000, 0.5000, 0.5000]), std=tensor([0.5000, 0.5000, 0.5000]))\n",
              "           )"
            ]
          },
          "metadata": {},
          "execution_count": 25
        }
      ]
    },
    {
      "cell_type": "code",
      "source": [
        "train_loader = DataLoader(train_data, shuffle=True, batch_size=config.BATCH_SIZE)\n",
        "test_loader = DataLoader(test_data, shuffle=False, batch_size=config.BATCH_SIZE)"
      ],
      "metadata": {
        "id": "P6ZHTTvOJ2S6"
      },
      "execution_count": null,
      "outputs": []
    },
    {
      "cell_type": "code",
      "source": [
        "data = next(iter(train_loader))"
      ],
      "metadata": {
        "id": "7wtteOBeKHSo"
      },
      "execution_count": null,
      "outputs": []
    },
    {
      "cell_type": "code",
      "source": [
        "len(data)"
      ],
      "metadata": {
        "colab": {
          "base_uri": "https://localhost:8080/"
        },
        "id": "p5moSq-fKMMF",
        "outputId": "138e4c9b-83ce-4e41-9062-3691bfca422d"
      },
      "execution_count": null,
      "outputs": [
        {
          "output_type": "execute_result",
          "data": {
            "text/plain": [
              "2"
            ]
          },
          "metadata": {},
          "execution_count": 28
        }
      ]
    },
    {
      "cell_type": "code",
      "source": [
        "images, labels = data"
      ],
      "metadata": {
        "id": "4QsfmzuxKOhj"
      },
      "execution_count": null,
      "outputs": []
    },
    {
      "cell_type": "code",
      "source": [
        "images.shape, labels.shape"
      ],
      "metadata": {
        "colab": {
          "base_uri": "https://localhost:8080/"
        },
        "id": "2Wp5eVeDKQ0y",
        "outputId": "f9e20361-83ba-4d15-ae82-16e7c5da5b10"
      },
      "execution_count": null,
      "outputs": [
        {
          "output_type": "execute_result",
          "data": {
            "text/plain": [
              "(torch.Size([32, 3, 224, 224]), torch.Size([32]))"
            ]
          },
          "metadata": {},
          "execution_count": 30
        }
      ]
    },
    {
      "cell_type": "markdown",
      "source": [
        "## Visualize one of the samples"
      ],
      "metadata": {
        "id": "ObOyQsE5t8zr"
      }
    },
    {
      "cell_type": "code",
      "source": [
        "img = images[0]\n",
        "img.shape"
      ],
      "metadata": {
        "colab": {
          "base_uri": "https://localhost:8080/"
        },
        "id": "XuReRSg5Kdfs",
        "outputId": "a58d12dd-4501-470c-dc9f-68c65e00e0bf"
      },
      "execution_count": null,
      "outputs": [
        {
          "output_type": "execute_result",
          "data": {
            "text/plain": [
              "torch.Size([3, 224, 224])"
            ]
          },
          "metadata": {},
          "execution_count": 31
        }
      ]
    },
    {
      "cell_type": "code",
      "source": [
        "# (3, 224, 224) ==>> (224, 224, 3)\n",
        "plt.imshow(img.permute(1,2,0))"
      ],
      "metadata": {
        "colab": {
          "base_uri": "https://localhost:8080/",
          "height": 304
        },
        "id": "FXW2J0ysKlJB",
        "outputId": "96920577-2d3d-489e-fa27-bf1ebc83c993"
      },
      "execution_count": null,
      "outputs": [
        {
          "output_type": "stream",
          "name": "stderr",
          "text": [
            "Clipping input data to the valid range for imshow with RGB data ([0..1] for floats or [0..255] for integers).\n"
          ]
        },
        {
          "output_type": "execute_result",
          "data": {
            "text/plain": [
              "<matplotlib.image.AxesImage at 0x7f601a35c210>"
            ]
          },
          "metadata": {},
          "execution_count": 32
        },
        {
          "output_type": "display_data",
          "data": {
            "text/plain": [
              "<Figure size 432x288 with 1 Axes>"
            ],
            "image/png": "[encoded data removed]"
          },
          "metadata": {
            "needs_background": "light"
          }
        }
      ]
    },
    {
      "cell_type": "markdown",
      "source": [
        "## Download and use pre-trained model for transferlearning"
      ],
      "metadata": {
        "id": "3vFiqFahLA6r"
      }
    },
    {
      "cell_type": "code",
      "source": [
        "model = models.alexnet(pretrained=True) # Imagenet dataset 1000"
      ],
      "metadata": {
        "id": "AzF9yrLZLAqP",
        "colab": {
          "base_uri": "https://localhost:8080/",
          "height": 66,
          "referenced_widgets": [
            "5089436a5ae54b618f216535bb2febfe",
            "81a8628a57a2428489130e6df409409e",
            "264b37f12870453b89284e2468e23706",
            "b40924f28587460e81c526d866efe42a",
            "490a4f26e7384c66a514f91596c17891",
            "d0f517c490164bcdb13d895de48a8cc2",
            "4873168310ba4d1d99bae50e8a23de49",
            "4214fe0ac3fa4dfb8b9313b0c35374fb",
            "cbe3b46cf7d74a82b5573b4d6d34ad78",
            "7e5a16180c9c4c72a60785a7bbb791bf",
            "1ca0d44c766e4553834e0c2d379f2510"
          ]
        },
        "outputId": "0db5a367-16ac-40ee-efee-6b3b393c9336"
      },
      "execution_count": null,
      "outputs": [
        {
          "output_type": "stream",
          "name": "stderr",
          "text": [
            "Downloading: \"https://download.pytorch.org/models/alexnet-owt-7be5be79.pth\" to /root/.cache/torch/hub/checkpoints/alexnet-owt-7be5be79.pth\n"
          ]
        },
        {
          "output_type": "display_data",
          "data": {
            "text/plain": [
              "  0%|          | 0.00/233M [00:00<?, ?B/s]"
            ],
            "application/vnd.jupyter.widget-view+json": {
              "version_major": 2,
              "version_minor": 0,
              "model_id": "5089436a5ae54b618f216535bb2febfe"
            }
          },
          "metadata": {}
        }
      ]
    },
    {
      "cell_type": "code",
      "source": [
        "print(model)"
      ],
      "metadata": {
        "colab": {
          "base_uri": "https://localhost:8080/"
        },
        "id": "YU-r04wHp5F7",
        "outputId": "4bf35cb0-cf75-47ef-db50-c5de4ab30fca"
      },
      "execution_count": null,
      "outputs": [
        {
          "output_type": "stream",
          "name": "stdout",
          "text": [
            "AlexNet(\n",
            "  (features): Sequential(\n",
            "    (0): Conv2d(3, 64, kernel_size=(11, 11), stride=(4, 4), padding=(2, 2))\n",
            "    (1): ReLU(inplace=True)\n",
            "    (2): MaxPool2d(kernel_size=3, stride=2, padding=0, dilation=1, ceil_mode=False)\n",
            "    (3): Conv2d(64, 192, kernel_size=(5, 5), stride=(1, 1), padding=(2, 2))\n",
            "    (4): ReLU(inplace=True)\n",
            "    (5): MaxPool2d(kernel_size=3, stride=2, padding=0, dilation=1, ceil_mode=False)\n",
            "    (6): Conv2d(192, 384, kernel_size=(3, 3), stride=(1, 1), padding=(1, 1))\n",
            "    (7): ReLU(inplace=True)\n",
            "    (8): Conv2d(384, 256, kernel_size=(3, 3), stride=(1, 1), padding=(1, 1))\n",
            "    (9): ReLU(inplace=True)\n",
            "    (10): Conv2d(256, 256, kernel_size=(3, 3), stride=(1, 1), padding=(1, 1))\n",
            "    (11): ReLU(inplace=True)\n",
            "    (12): MaxPool2d(kernel_size=3, stride=2, padding=0, dilation=1, ceil_mode=False)\n",
            "  )\n",
            "  (avgpool): AdaptiveAvgPool2d(output_size=(6, 6))\n",
            "  (classifier): Sequential(\n",
            "    (0): Dropout(p=0.5, inplace=False)\n",
            "    (1): Linear(in_features=9216, out_features=4096, bias=True)\n",
            "    (2): ReLU(inplace=True)\n",
            "    (3): Dropout(p=0.5, inplace=False)\n",
            "    (4): Linear(in_features=4096, out_features=4096, bias=True)\n",
            "    (5): ReLU(inplace=True)\n",
            "    (6): Linear(in_features=4096, out_features=1000, bias=True)\n",
            "  )\n",
            ")\n"
          ]
        }
      ]
    },
    {
      "cell_type": "markdown",
      "source": [
        "## Count the no. of trainable parameters"
      ],
      "metadata": {
        "id": "3adlIIWQ80ao"
      }
    },
    {
      "cell_type": "code",
      "source": [
        "def count_params(model):\n",
        "  model_params = {\"Modules\": list(), \"Parameters\": list()}\n",
        "  total = {\"trainable\": 0, \"non_trainable\": 0}\n",
        "  for name, parameters in model.named_parameters():\n",
        "    param = parameters.numel()\n",
        "    if not parameters.requires_grad:\n",
        "      total[\"non_trainable\"] += param\n",
        "      continue\n",
        "    model_params[\"Modules\"].append(name)\n",
        "    model_params[\"Parameters\"].append(param)\n",
        "    total[\"trainable\"] += param\n",
        "  df = pd.DataFrame(model_params)\n",
        "  df = df.style.set_caption(f\"Total parameters: {total}\")\n",
        "  return df\n",
        "\n",
        "count_params(model)"
      ],
      "metadata": {
        "colab": {
          "base_uri": "https://localhost:8080/",
          "height": 585
        },
        "id": "sRiX_aPN8rYn",
        "outputId": "c2ca71fa-34f3-4f4a-9401-f3fe943265f0"
      },
      "execution_count": null,
      "outputs": [
        {
          "output_type": "execute_result",
          "data": {
            "text/plain": [
              "<pandas.io.formats.style.Styler at 0x7f6019da9090>"
            ],
            "text/html": [
              "<style type=\"text/css\">\n",
              "</style>\n",
              "<table id=\"T_4faf5_\" class=\"dataframe\">\n",
              "  <caption>Total parameters: {'trainable': 61100840, 'non_trainable': 0}</caption>\n",
              "  <thead>\n",
              "    <tr>\n",
              "      <th class=\"blank level0\" >&nbsp;</th>\n",
              "      <th class=\"col_heading level0 col0\" >Modules</th>\n",
              "      <th class=\"col_heading level0 col1\" >Parameters</th>\n",
              "    </tr>\n",
              "  </thead>\n",
              "  <tbody>\n",
              "    <tr>\n",
              "      <th id=\"T_4faf5_level0_row0\" class=\"row_heading level0 row0\" >0</th>\n",
              "      <td id=\"T_4faf5_row0_col0\" class=\"data row0 col0\" >features.0.weight</td>\n",
              "      <td id=\"T_4faf5_row0_col1\" class=\"data row0 col1\" >23232</td>\n",
              "    </tr>\n",
              "    <tr>\n",
              "      <th id=\"T_4faf5_level0_row1\" class=\"row_heading level0 row1\" >1</th>\n",
              "      <td id=\"T_4faf5_row1_col0\" class=\"data row1 col0\" >features.0.bias</td>\n",
              "      <td id=\"T_4faf5_row1_col1\" class=\"data row1 col1\" >64</td>\n",
              "    </tr>\n",
              "    <tr>\n",
              "      <th id=\"T_4faf5_level0_row2\" class=\"row_heading level0 row2\" >2</th>\n",
              "      <td id=\"T_4faf5_row2_col0\" class=\"data row2 col0\" >features.3.weight</td>\n",
              "      <td id=\"T_4faf5_row2_col1\" class=\"data row2 col1\" >307200</td>\n",
              "    </tr>\n",
              "    <tr>\n",
              "      <th id=\"T_4faf5_level0_row3\" class=\"row_heading level0 row3\" >3</th>\n",
              "      <td id=\"T_4faf5_row3_col0\" class=\"data row3 col0\" >features.3.bias</td>\n",
              "      <td id=\"T_4faf5_row3_col1\" class=\"data row3 col1\" >192</td>\n",
              "    </tr>\n",
              "    <tr>\n",
              "      <th id=\"T_4faf5_level0_row4\" class=\"row_heading level0 row4\" >4</th>\n",
              "      <td id=\"T_4faf5_row4_col0\" class=\"data row4 col0\" >features.6.weight</td>\n",
              "      <td id=\"T_4faf5_row4_col1\" class=\"data row4 col1\" >663552</td>\n",
              "    </tr>\n",
              "    <tr>\n",
              "      <th id=\"T_4faf5_level0_row5\" class=\"row_heading level0 row5\" >5</th>\n",
              "      <td id=\"T_4faf5_row5_col0\" class=\"data row5 col0\" >features.6.bias</td>\n",
              "      <td id=\"T_4faf5_row5_col1\" class=\"data row5 col1\" >384</td>\n",
              "    </tr>\n",
              "    <tr>\n",
              "      <th id=\"T_4faf5_level0_row6\" class=\"row_heading level0 row6\" >6</th>\n",
              "      <td id=\"T_4faf5_row6_col0\" class=\"data row6 col0\" >features.8.weight</td>\n",
              "      <td id=\"T_4faf5_row6_col1\" class=\"data row6 col1\" >884736</td>\n",
              "    </tr>\n",
              "    <tr>\n",
              "      <th id=\"T_4faf5_level0_row7\" class=\"row_heading level0 row7\" >7</th>\n",
              "      <td id=\"T_4faf5_row7_col0\" class=\"data row7 col0\" >features.8.bias</td>\n",
              "      <td id=\"T_4faf5_row7_col1\" class=\"data row7 col1\" >256</td>\n",
              "    </tr>\n",
              "    <tr>\n",
              "      <th id=\"T_4faf5_level0_row8\" class=\"row_heading level0 row8\" >8</th>\n",
              "      <td id=\"T_4faf5_row8_col0\" class=\"data row8 col0\" >features.10.weight</td>\n",
              "      <td id=\"T_4faf5_row8_col1\" class=\"data row8 col1\" >589824</td>\n",
              "    </tr>\n",
              "    <tr>\n",
              "      <th id=\"T_4faf5_level0_row9\" class=\"row_heading level0 row9\" >9</th>\n",
              "      <td id=\"T_4faf5_row9_col0\" class=\"data row9 col0\" >features.10.bias</td>\n",
              "      <td id=\"T_4faf5_row9_col1\" class=\"data row9 col1\" >256</td>\n",
              "    </tr>\n",
              "    <tr>\n",
              "      <th id=\"T_4faf5_level0_row10\" class=\"row_heading level0 row10\" >10</th>\n",
              "      <td id=\"T_4faf5_row10_col0\" class=\"data row10 col0\" >classifier.1.weight</td>\n",
              "      <td id=\"T_4faf5_row10_col1\" class=\"data row10 col1\" >37748736</td>\n",
              "    </tr>\n",
              "    <tr>\n",
              "      <th id=\"T_4faf5_level0_row11\" class=\"row_heading level0 row11\" >11</th>\n",
              "      <td id=\"T_4faf5_row11_col0\" class=\"data row11 col0\" >classifier.1.bias</td>\n",
              "      <td id=\"T_4faf5_row11_col1\" class=\"data row11 col1\" >4096</td>\n",
              "    </tr>\n",
              "    <tr>\n",
              "      <th id=\"T_4faf5_level0_row12\" class=\"row_heading level0 row12\" >12</th>\n",
              "      <td id=\"T_4faf5_row12_col0\" class=\"data row12 col0\" >classifier.4.weight</td>\n",
              "      <td id=\"T_4faf5_row12_col1\" class=\"data row12 col1\" >16777216</td>\n",
              "    </tr>\n",
              "    <tr>\n",
              "      <th id=\"T_4faf5_level0_row13\" class=\"row_heading level0 row13\" >13</th>\n",
              "      <td id=\"T_4faf5_row13_col0\" class=\"data row13 col0\" >classifier.4.bias</td>\n",
              "      <td id=\"T_4faf5_row13_col1\" class=\"data row13 col1\" >4096</td>\n",
              "    </tr>\n",
              "    <tr>\n",
              "      <th id=\"T_4faf5_level0_row14\" class=\"row_heading level0 row14\" >14</th>\n",
              "      <td id=\"T_4faf5_row14_col0\" class=\"data row14 col0\" >classifier.6.weight</td>\n",
              "      <td id=\"T_4faf5_row14_col1\" class=\"data row14 col1\" >4096000</td>\n",
              "    </tr>\n",
              "    <tr>\n",
              "      <th id=\"T_4faf5_level0_row15\" class=\"row_heading level0 row15\" >15</th>\n",
              "      <td id=\"T_4faf5_row15_col0\" class=\"data row15 col0\" >classifier.6.bias</td>\n",
              "      <td id=\"T_4faf5_row15_col1\" class=\"data row15 col1\" >1000</td>\n",
              "    </tr>\n",
              "  </tbody>\n",
              "</table>\n"
            ]
          },
          "metadata": {},
          "execution_count": 35
        }
      ]
    },
    {
      "cell_type": "code",
      "source": [
        "# Freeze all the layers\n",
        "\n",
        "for parameters in model.parameters():\n",
        "  parameters.requires_grad = False"
      ],
      "metadata": {
        "id": "PXfDIRa2qqNa"
      },
      "execution_count": null,
      "outputs": []
    },
    {
      "cell_type": "code",
      "source": [
        "count_params(model)"
      ],
      "metadata": {
        "colab": {
          "base_uri": "https://localhost:8080/",
          "height": 84
        },
        "id": "axbXMDAgrAK3",
        "outputId": "81f80dec-8f85-46b1-a96e-14e246530a34"
      },
      "execution_count": null,
      "outputs": [
        {
          "output_type": "execute_result",
          "data": {
            "text/plain": [
              "<pandas.io.formats.style.Styler at 0x7f6019dfe710>"
            ],
            "text/html": [
              "<style type=\"text/css\">\n",
              "</style>\n",
              "<table id=\"T_b19cc_\" class=\"dataframe\">\n",
              "  <caption>Total parameters: {'trainable': 0, 'non_trainable': 61100840}</caption>\n",
              "  <thead>\n",
              "    <tr>\n",
              "      <th class=\"blank level0\" >&nbsp;</th>\n",
              "      <th class=\"col_heading level0 col0\" >Modules</th>\n",
              "      <th class=\"col_heading level0 col1\" >Parameters</th>\n",
              "    </tr>\n",
              "  </thead>\n",
              "  <tbody>\n",
              "  </tbody>\n",
              "</table>\n"
            ]
          },
          "metadata": {},
          "execution_count": 39
        }
      ]
    },
    {
      "cell_type": "code",
      "source": [
        "model.classifier"
      ],
      "metadata": {
        "colab": {
          "base_uri": "https://localhost:8080/"
        },
        "id": "BMLNSNm8rGz1",
        "outputId": "702ec23e-b9d3-4fcf-f860-bf36d76c3306"
      },
      "execution_count": null,
      "outputs": [
        {
          "output_type": "execute_result",
          "data": {
            "text/plain": [
              "Sequential(\n",
              "  (0): Dropout(p=0.5, inplace=False)\n",
              "  (1): Linear(in_features=9216, out_features=4096, bias=True)\n",
              "  (2): ReLU(inplace=True)\n",
              "  (3): Dropout(p=0.5, inplace=False)\n",
              "  (4): Linear(in_features=4096, out_features=4096, bias=True)\n",
              "  (5): ReLU(inplace=True)\n",
              "  (6): Linear(in_features=4096, out_features=1000, bias=True)\n",
              ")"
            ]
          },
          "metadata": {},
          "execution_count": 40
        }
      ]
    },
    {
      "cell_type": "code",
      "source": [
        "model.classifier = nn.Sequential(\n",
        "    nn.Linear(in_features=9216, out_features=100, bias=True),\n",
        "    nn.ReLU(inplace=True),\n",
        "    nn.Dropout(p=0.5, inplace=False),\n",
        "    nn.Linear(in_features=100, out_features=2, bias=True)\n",
        ")"
      ],
      "metadata": {
        "id": "VjOmOI8drM-W"
      },
      "execution_count": null,
      "outputs": []
    },
    {
      "cell_type": "code",
      "source": [
        "print(model)"
      ],
      "metadata": {
        "colab": {
          "base_uri": "https://localhost:8080/"
        },
        "id": "Mfu3_cNsr6Eb",
        "outputId": "95de2603-80bf-4f06-a483-da0789554841"
      },
      "execution_count": null,
      "outputs": [
        {
          "output_type": "stream",
          "name": "stdout",
          "text": [
            "AlexNet(\n",
            "  (features): Sequential(\n",
            "    (0): Conv2d(3, 64, kernel_size=(11, 11), stride=(4, 4), padding=(2, 2))\n",
            "    (1): ReLU(inplace=True)\n",
            "    (2): MaxPool2d(kernel_size=3, stride=2, padding=0, dilation=1, ceil_mode=False)\n",
            "    (3): Conv2d(64, 192, kernel_size=(5, 5), stride=(1, 1), padding=(2, 2))\n",
            "    (4): ReLU(inplace=True)\n",
            "    (5): MaxPool2d(kernel_size=3, stride=2, padding=0, dilation=1, ceil_mode=False)\n",
            "    (6): Conv2d(192, 384, kernel_size=(3, 3), stride=(1, 1), padding=(1, 1))\n",
            "    (7): ReLU(inplace=True)\n",
            "    (8): Conv2d(384, 256, kernel_size=(3, 3), stride=(1, 1), padding=(1, 1))\n",
            "    (9): ReLU(inplace=True)\n",
            "    (10): Conv2d(256, 256, kernel_size=(3, 3), stride=(1, 1), padding=(1, 1))\n",
            "    (11): ReLU(inplace=True)\n",
            "    (12): MaxPool2d(kernel_size=3, stride=2, padding=0, dilation=1, ceil_mode=False)\n",
            "  )\n",
            "  (avgpool): AdaptiveAvgPool2d(output_size=(6, 6))\n",
            "  (classifier): Sequential(\n",
            "    (0): Linear(in_features=9216, out_features=100, bias=True)\n",
            "    (1): ReLU(inplace=True)\n",
            "    (2): Dropout(p=0.5, inplace=False)\n",
            "    (3): Linear(in_features=100, out_features=2, bias=True)\n",
            "  )\n",
            ")\n"
          ]
        }
      ]
    },
    {
      "cell_type": "code",
      "source": [
        "count_params(model)"
      ],
      "metadata": {
        "colab": {
          "base_uri": "https://localhost:8080/",
          "height": 209
        },
        "id": "2ymm7DcBr89x",
        "outputId": "62c1cde1-f9bc-4f83-e6d4-19b88fe5be4b"
      },
      "execution_count": null,
      "outputs": [
        {
          "output_type": "execute_result",
          "data": {
            "text/plain": [
              "<pandas.io.formats.style.Styler at 0x7f60180a4090>"
            ],
            "text/html": [
              "<style type=\"text/css\">\n",
              "</style>\n",
              "<table id=\"T_957aa_\" class=\"dataframe\">\n",
              "  <caption>Total parameters: {'trainable': 921902, 'non_trainable': 2469696}</caption>\n",
              "  <thead>\n",
              "    <tr>\n",
              "      <th class=\"blank level0\" >&nbsp;</th>\n",
              "      <th class=\"col_heading level0 col0\" >Modules</th>\n",
              "      <th class=\"col_heading level0 col1\" >Parameters</th>\n",
              "    </tr>\n",
              "  </thead>\n",
              "  <tbody>\n",
              "    <tr>\n",
              "      <th id=\"T_957aa_level0_row0\" class=\"row_heading level0 row0\" >0</th>\n",
              "      <td id=\"T_957aa_row0_col0\" class=\"data row0 col0\" >classifier.0.weight</td>\n",
              "      <td id=\"T_957aa_row0_col1\" class=\"data row0 col1\" >921600</td>\n",
              "    </tr>\n",
              "    <tr>\n",
              "      <th id=\"T_957aa_level0_row1\" class=\"row_heading level0 row1\" >1</th>\n",
              "      <td id=\"T_957aa_row1_col0\" class=\"data row1 col0\" >classifier.0.bias</td>\n",
              "      <td id=\"T_957aa_row1_col1\" class=\"data row1 col1\" >100</td>\n",
              "    </tr>\n",
              "    <tr>\n",
              "      <th id=\"T_957aa_level0_row2\" class=\"row_heading level0 row2\" >2</th>\n",
              "      <td id=\"T_957aa_row2_col0\" class=\"data row2 col0\" >classifier.3.weight</td>\n",
              "      <td id=\"T_957aa_row2_col1\" class=\"data row2 col1\" >200</td>\n",
              "    </tr>\n",
              "    <tr>\n",
              "      <th id=\"T_957aa_level0_row3\" class=\"row_heading level0 row3\" >3</th>\n",
              "      <td id=\"T_957aa_row3_col0\" class=\"data row3 col0\" >classifier.3.bias</td>\n",
              "      <td id=\"T_957aa_row3_col1\" class=\"data row3 col1\" >2</td>\n",
              "    </tr>\n",
              "  </tbody>\n",
              "</table>\n"
            ]
          },
          "metadata": {},
          "execution_count": 43
        }
      ]
    },
    {
      "cell_type": "markdown",
      "source": [
        "## Training loop"
      ],
      "metadata": {
        "id": "_ch8lk1z--v-"
      }
    },
    {
      "cell_type": "code",
      "source": [
        "model.to(config.DEVICE)"
      ],
      "metadata": {
        "id": "kXISVZns97Gu",
        "colab": {
          "base_uri": "https://localhost:8080/"
        },
        "outputId": "6c5bcdb5-5037-4616-94a3-6499cc87874c"
      },
      "execution_count": null,
      "outputs": [
        {
          "output_type": "execute_result",
          "data": {
            "text/plain": [
              "AlexNet(\n",
              "  (features): Sequential(\n",
              "    (0): Conv2d(3, 64, kernel_size=(11, 11), stride=(4, 4), padding=(2, 2))\n",
              "    (1): ReLU(inplace=True)\n",
              "    (2): MaxPool2d(kernel_size=3, stride=2, padding=0, dilation=1, ceil_mode=False)\n",
              "    (3): Conv2d(64, 192, kernel_size=(5, 5), stride=(1, 1), padding=(2, 2))\n",
              "    (4): ReLU(inplace=True)\n",
              "    (5): MaxPool2d(kernel_size=3, stride=2, padding=0, dilation=1, ceil_mode=False)\n",
              "    (6): Conv2d(192, 384, kernel_size=(3, 3), stride=(1, 1), padding=(1, 1))\n",
              "    (7): ReLU(inplace=True)\n",
              "    (8): Conv2d(384, 256, kernel_size=(3, 3), stride=(1, 1), padding=(1, 1))\n",
              "    (9): ReLU(inplace=True)\n",
              "    (10): Conv2d(256, 256, kernel_size=(3, 3), stride=(1, 1), padding=(1, 1))\n",
              "    (11): ReLU(inplace=True)\n",
              "    (12): MaxPool2d(kernel_size=3, stride=2, padding=0, dilation=1, ceil_mode=False)\n",
              "  )\n",
              "  (avgpool): AdaptiveAvgPool2d(output_size=(6, 6))\n",
              "  (classifier): Sequential(\n",
              "    (0): Linear(in_features=9216, out_features=100, bias=True)\n",
              "    (1): ReLU(inplace=True)\n",
              "    (2): Dropout(p=0.5, inplace=False)\n",
              "    (3): Linear(in_features=100, out_features=2, bias=True)\n",
              "  )\n",
              ")"
            ]
          },
          "metadata": {},
          "execution_count": 44
        }
      ]
    },
    {
      "cell_type": "code",
      "source": [
        "criterion = nn.CrossEntropyLoss()\n",
        "optimizer = torch.optim.Adam(model.parameters())"
      ],
      "metadata": {
        "id": "7ImduhLmsW96"
      },
      "execution_count": null,
      "outputs": []
    },
    {
      "cell_type": "code",
      "source": [
        "for epoch in range(config.EPOCH):\n",
        "  with tqdm(train_loader) as tqdm_epoch:\n",
        "    for images, labels in tqdm_epoch:\n",
        "      tqdm_epoch.set_description(f\"Epoch {epoch + 1}/{config.EPOCH}\")\n",
        "\n",
        "      images = images.to(config.DEVICE)\n",
        "      labels = labels.to(config.DEVICE)\n",
        "\n",
        "      # forward pass\n",
        "      outputs = model(images)\n",
        "      loss = criterion(outputs, labels)\n",
        "\n",
        "      # backward pass\n",
        "      optimizer.zero_grad()\n",
        "      loss.backward()\n",
        "      optimizer.step()\n",
        "\n",
        "      tqdm_epoch.set_postfix(loss= loss.item())\n",
        ""
      ],
      "metadata": {
        "colab": {
          "base_uri": "https://localhost:8080/"
        },
        "id": "bMW19ItvsmDX",
        "outputId": "b7313ca1-b53b-4c5d-a2ec-9a8b2700b16c"
      },
      "execution_count": null,
      "outputs": [
        {
          "output_type": "stream",
          "name": "stderr",
          "text": [
            "Epoch 1/10: 100%|██████████| 8/8 [00:03<00:00,  2.56it/s, loss=0.798]\n",
            "Epoch 2/10: 100%|██████████| 8/8 [00:02<00:00,  2.81it/s, loss=0.381]\n",
            "Epoch 3/10: 100%|██████████| 8/8 [00:02<00:00,  2.80it/s, loss=0.0813]\n",
            "Epoch 4/10: 100%|██████████| 8/8 [00:02<00:00,  2.77it/s, loss=0.168]\n",
            "Epoch 5/10: 100%|██████████| 8/8 [00:02<00:00,  2.79it/s, loss=0.0492]\n",
            "Epoch 6/10: 100%|██████████| 8/8 [00:02<00:00,  2.78it/s, loss=0.0964]\n",
            "Epoch 7/10: 100%|██████████| 8/8 [00:02<00:00,  2.78it/s, loss=0.061]\n",
            "Epoch 8/10: 100%|██████████| 8/8 [00:02<00:00,  2.83it/s, loss=0.0633]\n",
            "Epoch 9/10: 100%|██████████| 8/8 [00:02<00:00,  2.81it/s, loss=0.0294]\n",
            "Epoch 10/10: 100%|██████████| 8/8 [00:02<00:00,  2.87it/s, loss=0.0196]\n"
          ]
        }
      ]
    },
    {
      "cell_type": "code",
      "source": [
        "os.makedirs(\"model_dir_2\", exist_ok=True)\n",
        "model_file_path = os.path.join(\"model_dir_2\", \"CNN_ALEXNET_model.pth\")\n",
        "torch.save(model, model_file_path)"
      ],
      "metadata": {
        "id": "RNnDxcBVv7oa"
      },
      "execution_count": null,
      "outputs": []
    },
    {
      "cell_type": "markdown",
      "source": [
        "## Evaluate our model"
      ],
      "metadata": {
        "id": "HwX6bnIe_BC_"
      }
    },
    {
      "cell_type": "code",
      "source": [
        "pred = np.array([])\n",
        "target = np.array([])\n",
        "\n",
        "with torch.no_grad():\n",
        "  for batch, data in enumerate(test_loader):\n",
        "    images = data[0].to(config.DEVICE)\n",
        "    labels = data[1].to(config.DEVICE)\n",
        "\n",
        "    y_pred = model(images)\n",
        "\n",
        "    pred = np.concatenate((pred, torch.argmax(y_pred, 1).cpu().numpy()))\n",
        "    target = np.concatenate((target, labels.cpu().numpy()))"
      ],
      "metadata": {
        "id": "OqS9yO7D_C9L"
      },
      "execution_count": null,
      "outputs": []
    },
    {
      "cell_type": "code",
      "source": [
        "cm = confusion_matrix(target, pred)"
      ],
      "metadata": {
        "id": "_6dfDz16wKTt"
      },
      "execution_count": null,
      "outputs": []
    },
    {
      "cell_type": "code",
      "source": [
        "label_map"
      ],
      "metadata": {
        "colab": {
          "base_uri": "https://localhost:8080/"
        },
        "id": "5fbOQK6XwWbH",
        "outputId": "e3a4b47f-20ee-49d1-8b62-7d973e6ec137"
      },
      "execution_count": null,
      "outputs": [
        {
          "output_type": "execute_result",
          "data": {
            "text/plain": [
              "{'ants': 0, 'bees': 1}"
            ]
          },
          "metadata": {},
          "execution_count": 51
        }
      ]
    },
    {
      "cell_type": "code",
      "source": [
        "sns.heatmap(cm, annot=True, fmt='d', xticklabels=label_map.keys() , yticklabels=label_map.keys(), cbar=False)"
      ],
      "metadata": {
        "colab": {
          "base_uri": "https://localhost:8080/",
          "height": 282
        },
        "id": "HJp1A3jCwL21",
        "outputId": "68231995-e509-44e0-f293-245dcb9565a5"
      },
      "execution_count": null,
      "outputs": [
        {
          "output_type": "execute_result",
          "data": {
            "text/plain": [
              "<matplotlib.axes._subplots.AxesSubplot at 0x7f60171879d0>"
            ]
          },
          "metadata": {},
          "execution_count": 52
        },
        {
          "output_type": "display_data",
          "data": {
            "text/plain": [
              "<Figure size 432x288 with 1 Axes>"
            ],
            "image/png": "[encoded data removed]"
          },
          "metadata": {
            "needs_background": "light"
          }
        }
      ]
    },
    {
      "cell_type": "markdown",
      "source": [
        "## prediction on our model"
      ],
      "metadata": {
        "id": "76rHcV37_DV0"
      }
    },
    {
      "cell_type": "code",
      "source": [
        "data = next(iter(test_loader))\n",
        "data"
      ],
      "metadata": {
        "id": "rnFsEjVzRGsn",
        "colab": {
          "base_uri": "https://localhost:8080/"
        },
        "outputId": "8dd5ff94-c51c-4471-875e-f6d6dc5988f1"
      },
      "execution_count": null,
      "outputs": [
        {
          "output_type": "execute_result",
          "data": {
            "text/plain": [
              "[tensor([[[[ 0.6078,  0.5765,  0.7176,  ...,  0.4275,  0.3490,  0.2784],\n",
              "           [ 0.4667,  0.5373,  0.6078,  ...,  0.4353,  0.4353,  0.3176],\n",
              "           [ 0.5294,  0.5529,  0.4902,  ...,  0.3569,  0.3569,  0.3569],\n",
              "           ...,\n",
              "           [ 0.0980,  0.3490,  0.6941,  ...,  0.2392,  0.2863,  0.6078],\n",
              "           [ 0.2863,  0.4588,  0.6157,  ...,  0.0667,  0.1059,  0.1922],\n",
              "           [ 0.2706,  0.3961,  0.5294,  ...,  0.0275,  0.2549,  0.0902]],\n",
              " \n",
              "          [[ 0.9216,  0.8275,  0.8980,  ...,  0.7412,  0.5686,  0.4667],\n",
              "           [ 0.8353,  0.8745,  0.8980,  ...,  0.7490,  0.6314,  0.4902],\n",
              "           [ 0.8196,  0.8588,  0.7961,  ...,  0.6706,  0.6157,  0.6157],\n",
              "           ...,\n",
              "           [ 0.3255,  0.4510,  0.8588,  ...,  0.3569,  0.4196,  0.7255],\n",
              "           [ 0.5686,  0.6000,  0.8118,  ...,  0.1843,  0.2392,  0.2549],\n",
              "           [ 0.5059,  0.6314,  0.7961,  ...,  0.1294,  0.4196,  0.1529]],\n",
              " \n",
              "          [[ 0.9843,  0.8902,  0.9216,  ...,  0.7961,  0.6549,  0.4275],\n",
              "           [ 0.8667,  0.9059,  0.9216,  ...,  0.7725,  0.7412,  0.5216],\n",
              "           [ 0.8667,  0.8902,  0.8667,  ...,  0.6863,  0.7176,  0.6863],\n",
              "           ...,\n",
              "           [ 0.3961,  0.5922,  0.8902,  ..., -0.1059,  0.2157,  0.5608],\n",
              "           [ 0.6235,  0.7333,  0.8353,  ..., -0.2941, -0.2235, -0.1765],\n",
              "           [ 0.6078,  0.7647,  0.8275,  ..., -0.3412, -0.1137, -0.3098]]],\n",
              " \n",
              " \n",
              "         [[[ 0.2078,  0.1922,  0.1686,  ..., -0.0667, -0.0588, -0.0353],\n",
              "           [ 0.1922,  0.1765,  0.1529,  ..., -0.0510, -0.0510, -0.0431],\n",
              "           [ 0.1922,  0.1765,  0.1529,  ..., -0.0275, -0.0431, -0.0431],\n",
              "           ...,\n",
              "           [-0.2392, -0.2235, -0.2157,  ...,  0.0824,  0.0902,  0.0902],\n",
              "           [-0.1922, -0.1765, -0.1765,  ...,  0.0745,  0.0980,  0.1137],\n",
              "           [-0.1922, -0.1765, -0.1608,  ...,  0.0588,  0.0824,  0.1059]],\n",
              " \n",
              "          [[ 0.0667,  0.0667,  0.0510,  ..., -0.1451, -0.1373, -0.1137],\n",
              "           [ 0.0510,  0.0510,  0.0275,  ..., -0.1451, -0.1294, -0.1216],\n",
              "           [ 0.0510,  0.0431,  0.0118,  ..., -0.1294, -0.1294, -0.1216],\n",
              "           ...,\n",
              "           [-0.3490, -0.3333, -0.3333,  ..., -0.0980, -0.0824, -0.0745],\n",
              "           [-0.3020, -0.3020, -0.3020,  ..., -0.0902, -0.0902, -0.0902],\n",
              "           [-0.2941, -0.3176, -0.2941,  ..., -0.0902, -0.0902, -0.0824]],\n",
              " \n",
              "          [[-0.0431, -0.0510, -0.0588,  ..., -0.2157, -0.2078, -0.1843],\n",
              "           [-0.0588, -0.0745, -0.0902,  ..., -0.2157, -0.2000, -0.1922],\n",
              "           [-0.0667, -0.0824, -0.1137,  ..., -0.2000, -0.2000, -0.1922],\n",
              "           ...,\n",
              "           [-0.4353, -0.4353, -0.4353,  ..., -0.2392, -0.2314, -0.2549],\n",
              "           [-0.3961, -0.4118, -0.4196,  ..., -0.2549, -0.2627, -0.2549],\n",
              "           [-0.3882, -0.4118, -0.4118,  ..., -0.2784, -0.2706, -0.2627]]],\n",
              " \n",
              " \n",
              "         [[[ 0.2941,  0.3255,  0.3176,  ...,  0.3882,  0.4039,  0.3961],\n",
              "           [ 0.3098,  0.3333,  0.3255,  ...,  0.3882,  0.4039,  0.4118],\n",
              "           [ 0.3569,  0.3490,  0.3333,  ...,  0.4039,  0.3961,  0.4118],\n",
              "           ...,\n",
              "           [ 1.0000,  0.9922,  0.9922,  ...,  0.4196,  0.6392,  0.6549],\n",
              "           [ 1.0000,  0.9922,  0.9922,  ...,  0.4824,  0.5843,  0.5922],\n",
              "           [ 1.0000,  1.0000,  0.9922,  ...,  0.5294,  0.5529,  0.5608]],\n",
              " \n",
              "          [[-0.0745, -0.0353, -0.0353,  ...,  0.0510,  0.0588,  0.0667],\n",
              "           [-0.0431, -0.0275, -0.0275,  ...,  0.0510,  0.0588,  0.0588],\n",
              "           [-0.0275, -0.0275, -0.0353,  ...,  0.0667,  0.0667,  0.0824],\n",
              "           ...,\n",
              "           [-0.0275, -0.0275, -0.0353,  ...,  0.0588,  0.2863,  0.3020],\n",
              "           [-0.0275, -0.0353, -0.0353,  ...,  0.0431,  0.1765,  0.1451],\n",
              "           [-0.0353, -0.0353, -0.0275,  ...,  0.1216,  0.1294,  0.0980]],\n",
              " \n",
              "          [[-0.0118,  0.0118, -0.0039,  ...,  0.1059,  0.0902,  0.1059],\n",
              "           [ 0.0196,  0.0353,  0.0118,  ...,  0.1137,  0.1137,  0.1294],\n",
              "           [ 0.0588,  0.0588,  0.0431,  ...,  0.1294,  0.1137,  0.1373],\n",
              "           ...,\n",
              "           [ 0.0824,  0.0824,  0.0745,  ...,  0.0745,  0.1608,  0.3804],\n",
              "           [ 0.0824,  0.0745,  0.0745,  ...,  0.0902,  0.1137,  0.1686],\n",
              "           [ 0.0667,  0.0745,  0.0667,  ...,  0.0431, -0.0275, -0.0510]]],\n",
              " \n",
              " \n",
              "         ...,\n",
              " \n",
              " \n",
              "         [[[-0.7020, -0.7333, -0.7333,  ...,  0.9294,  0.6784,  0.0039],\n",
              "           [-0.7255, -0.7176, -0.7255,  ...,  0.9294,  0.5922, -0.1137],\n",
              "           [-0.7176, -0.7490, -0.7412,  ...,  0.9137,  0.5059, -0.2157],\n",
              "           ...,\n",
              "           [ 0.8039,  0.8039,  0.8039,  ..., -0.5294, -0.5373, -0.5059],\n",
              "           [ 0.8039,  0.8118,  0.8118,  ..., -0.5137, -0.5294, -0.4902],\n",
              "           [ 0.8039,  0.8196,  0.8118,  ..., -0.5059, -0.5373, -0.4902]],\n",
              " \n",
              "          [[-0.4980, -0.5137, -0.5294,  ..., -0.4824, -0.6863, -0.9451],\n",
              "           [-0.5059, -0.5137, -0.5373,  ..., -0.4980, -0.7098, -0.9608],\n",
              "           [-0.5216, -0.5373, -0.5451,  ..., -0.5137, -0.7569, -0.9686],\n",
              "           ...,\n",
              "           [-0.5765, -0.5686, -0.5529,  ..., -0.2627, -0.2471, -0.2471],\n",
              "           [-0.5686, -0.5608, -0.5608,  ..., -0.2549, -0.2471, -0.2471],\n",
              "           [-0.5686, -0.5529, -0.5608,  ..., -0.2392, -0.2471, -0.2549]],\n",
              " \n",
              "          [[-0.9686, -0.9686, -0.9843,  ..., -0.9686, -0.9451, -0.9529],\n",
              "           [-0.9686, -0.9686, -0.9843,  ..., -0.9686, -0.9451, -0.9686],\n",
              "           [-0.9765, -0.9843, -0.9843,  ..., -0.9608, -0.9216, -0.9529],\n",
              "           ...,\n",
              "           [-0.9765, -0.9922, -0.9922,  ..., -0.2471, -0.2392, -0.2314],\n",
              "           [-0.9843, -0.9922, -0.9922,  ..., -0.2235, -0.2235, -0.2157],\n",
              "           [-0.9922, -0.9843, -0.9843,  ..., -0.2000, -0.2235, -0.2000]]],\n",
              " \n",
              " \n",
              "         [[[ 0.0980,  0.1216,  0.1294,  ...,  0.1451,  0.2392,  0.2471],\n",
              "           [ 0.0745,  0.0902,  0.0824,  ...,  0.1686,  0.2471,  0.2392],\n",
              "           [-0.0745, -0.0824,  0.0039,  ...,  0.2392,  0.2941,  0.2784],\n",
              "           ...,\n",
              "           [-0.2157, -0.2941, -0.2941,  ...,  0.4431,  0.5137,  0.4588],\n",
              "           [-0.2627, -0.3020, -0.2784,  ...,  0.4824,  0.5294,  0.4745],\n",
              "           [-0.2471, -0.2863, -0.2471,  ...,  0.4275,  0.4353,  0.4039]],\n",
              " \n",
              "          [[ 0.0980,  0.1216,  0.1451,  ...,  0.1765,  0.2549,  0.2706],\n",
              "           [ 0.1216,  0.1373,  0.1451,  ...,  0.2000,  0.2627,  0.2549],\n",
              "           [ 0.0667,  0.0510,  0.1216,  ...,  0.2706,  0.3098,  0.2863],\n",
              "           ...,\n",
              "           [-0.2235, -0.2784, -0.2627,  ...,  0.3961,  0.4824,  0.4353],\n",
              "           [-0.2314, -0.2627, -0.2392,  ...,  0.4196,  0.4980,  0.4588],\n",
              "           [-0.2314, -0.2471, -0.2157,  ...,  0.3412,  0.4039,  0.3961]],\n",
              " \n",
              "          [[-0.7333, -0.7176, -0.7098,  ..., -0.8667, -0.8118, -0.8039],\n",
              "           [-0.6941, -0.6863, -0.7098,  ..., -0.8275, -0.7647, -0.7647],\n",
              "           [-0.8196, -0.8353, -0.7725,  ..., -0.7569, -0.7098, -0.7176],\n",
              "           ...,\n",
              "           [-0.9843, -0.9922, -0.9843,  ..., -0.4275, -0.3569, -0.4275],\n",
              "           [-0.9686, -0.9922, -0.9686,  ..., -0.4118, -0.3255, -0.4039],\n",
              "           [-0.9529, -0.9843, -0.9373,  ..., -0.4902, -0.4196, -0.4667]]],\n",
              " \n",
              " \n",
              "         [[[-0.4667, -0.3804, -0.3882,  ..., -0.4980, -0.3490, -0.3020],\n",
              "           [-0.5451, -0.4275, -0.3020,  ..., -0.4745, -0.2314, -0.4667],\n",
              "           [-0.4196, -0.2784, -0.3961,  ..., -0.3333, -0.2235, -0.3882],\n",
              "           ...,\n",
              "           [ 0.6549,  0.5686,  0.5686,  ...,  0.5529,  0.5765,  0.5451],\n",
              "           [ 0.5608,  0.5765,  0.5373,  ...,  0.5608,  0.5529,  0.5608],\n",
              "           [ 0.5294,  0.5137,  0.5451,  ...,  0.4431,  0.4902,  0.5059]],\n",
              " \n",
              "          [[-0.2941, -0.2235, -0.3176,  ..., -0.3412, -0.2941, -0.3255],\n",
              "           [-0.3804, -0.2784, -0.2000,  ..., -0.3255, -0.2627, -0.4824],\n",
              "           [-0.2235, -0.1294, -0.2235,  ..., -0.2000, -0.2627, -0.3333],\n",
              "           ...,\n",
              "           [ 0.6157,  0.5294,  0.5373,  ...,  0.5137,  0.5451,  0.5216],\n",
              "           [ 0.5059,  0.5529,  0.4902,  ...,  0.5529,  0.5059,  0.5216],\n",
              "           [ 0.5059,  0.4588,  0.4902,  ...,  0.3176,  0.4745,  0.4980]],\n",
              " \n",
              "          [[-0.7490, -0.6235, -0.6784,  ..., -0.6941, -0.4980, -0.6549],\n",
              "           [-0.7725, -0.6863, -0.5843,  ..., -0.6235, -0.4980, -0.7725],\n",
              "           [-0.6627, -0.5686, -0.6549,  ..., -0.4980, -0.5608, -0.7490],\n",
              "           ...,\n",
              "           [ 0.6863,  0.5843,  0.5608,  ...,  0.5608,  0.5843,  0.5686],\n",
              "           [ 0.5529,  0.5843,  0.5451,  ...,  0.5843,  0.5451,  0.5686],\n",
              "           [ 0.5529,  0.5059,  0.5216,  ...,  0.3804,  0.4980,  0.5294]]]]),\n",
              " tensor([0, 0, 0, 0, 0, 0, 0, 0, 0, 0, 0, 0, 0, 0, 0, 0, 0, 0, 0, 0, 0, 0, 0, 0,\n",
              "         0, 0, 0, 0, 0, 0, 0, 0])]"
            ]
          },
          "metadata": {},
          "execution_count": 53
        }
      ]
    },
    {
      "cell_type": "code",
      "source": [
        "len(data)"
      ],
      "metadata": {
        "colab": {
          "base_uri": "https://localhost:8080/"
        },
        "id": "SalX_xf1woL4",
        "outputId": "0f78d1b6-34d0-4a7c-95b3-1d22872b86cd"
      },
      "execution_count": null,
      "outputs": [
        {
          "output_type": "execute_result",
          "data": {
            "text/plain": [
              "2"
            ]
          },
          "metadata": {},
          "execution_count": 54
        }
      ]
    },
    {
      "cell_type": "code",
      "source": [
        "images, labels = data"
      ],
      "metadata": {
        "id": "sZF6-RiWwtyJ"
      },
      "execution_count": null,
      "outputs": []
    },
    {
      "cell_type": "code",
      "source": [
        "images.shape, labels.shape"
      ],
      "metadata": {
        "colab": {
          "base_uri": "https://localhost:8080/"
        },
        "id": "ZZic0UYKwxWD",
        "outputId": "e53ed1f7-466d-43c4-df1b-dcadecd6d746"
      },
      "execution_count": null,
      "outputs": [
        {
          "output_type": "execute_result",
          "data": {
            "text/plain": [
              "(torch.Size([32, 3, 224, 224]), torch.Size([32]))"
            ]
          },
          "metadata": {},
          "execution_count": 57
        }
      ]
    },
    {
      "cell_type": "code",
      "source": [
        "img = images[2]"
      ],
      "metadata": {
        "id": "hd9iZQxKwzCN"
      },
      "execution_count": null,
      "outputs": []
    },
    {
      "cell_type": "code",
      "source": [
        "img.shape"
      ],
      "metadata": {
        "colab": {
          "base_uri": "https://localhost:8080/"
        },
        "id": "OMVOLF1HxAET",
        "outputId": "cf0bd6c1-0b61-4d28-ba54-5094563397a9"
      },
      "execution_count": null,
      "outputs": [
        {
          "output_type": "execute_result",
          "data": {
            "text/plain": [
              "torch.Size([3, 224, 224])"
            ]
          },
          "metadata": {},
          "execution_count": 59
        }
      ]
    },
    {
      "cell_type": "code",
      "source": [
        "plt.imshow(img.permute(1,2,0))"
      ],
      "metadata": {
        "colab": {
          "base_uri": "https://localhost:8080/",
          "height": 304
        },
        "id": "Qxs_jVojxBJK",
        "outputId": "1868b868-7e4f-492c-ef80-051e107fb93a"
      },
      "execution_count": null,
      "outputs": [
        {
          "output_type": "stream",
          "name": "stderr",
          "text": [
            "Clipping input data to the valid range for imshow with RGB data ([0..1] for floats or [0..255] for integers).\n"
          ]
        },
        {
          "output_type": "execute_result",
          "data": {
            "text/plain": [
              "<matplotlib.image.AxesImage at 0x7f6015b4d950>"
            ]
          },
          "metadata": {},
          "execution_count": 61
        },
        {
          "output_type": "display_data",
          "data": {
            "text/plain": [
              "<Figure size 432x288 with 1 Axes>"
            ],
            "image/png": "[encoded data removed]"
          },
          "metadata": {
            "needs_background": "light"
          }
        }
      ]
    },
    {
      "cell_type": "code",
      "source": [
        "img.unsqueeze(0).shape"
      ],
      "metadata": {
        "colab": {
          "base_uri": "https://localhost:8080/"
        },
        "id": "iPOAkhwAxEwn",
        "outputId": "e8da7ae6-05ed-4374-c5c6-94b592d64281"
      },
      "execution_count": null,
      "outputs": [
        {
          "output_type": "execute_result",
          "data": {
            "text/plain": [
              "torch.Size([1, 3, 224, 224])"
            ]
          },
          "metadata": {},
          "execution_count": 62
        }
      ]
    },
    {
      "cell_type": "code",
      "source": [
        "img_on_gpu = img.unsqueeze(0).to(config.DEVICE)\n",
        "\n",
        "pred_prob = F.softmax(model(img_on_gpu), dim=1)\n",
        "pred_prob"
      ],
      "metadata": {
        "colab": {
          "base_uri": "https://localhost:8080/"
        },
        "id": "JYT9RF3jxThl",
        "outputId": "cfaffd52-8823-455b-838a-d9e3e3868e1c"
      },
      "execution_count": null,
      "outputs": [
        {
          "output_type": "execute_result",
          "data": {
            "text/plain": [
              "tensor([[0.9505, 0.0495]], device='cuda:0', grad_fn=<SoftmaxBackward0>)"
            ]
          },
          "metadata": {},
          "execution_count": 63
        }
      ]
    },
    {
      "cell_type": "code",
      "source": [
        "argmax = torch.argmax(pred_prob).item()\n",
        "argmax"
      ],
      "metadata": {
        "colab": {
          "base_uri": "https://localhost:8080/"
        },
        "id": "CCcEOFEKxnLw",
        "outputId": "9222bf08-dc99-4881-9722-71b9ead026bd"
      },
      "execution_count": null,
      "outputs": [
        {
          "output_type": "execute_result",
          "data": {
            "text/plain": [
              "0"
            ]
          },
          "metadata": {},
          "execution_count": 64
        }
      ]
    },
    {
      "cell_type": "code",
      "source": [
        "inv_label_map = {val: key for key, val in label_map.items() }\n",
        "\n",
        "inv_label_map"
      ],
      "metadata": {
        "colab": {
          "base_uri": "https://localhost:8080/"
        },
        "id": "uAsDcq9zxyIG",
        "outputId": "a4c1c322-4a4a-42e2-ddad-24f10c3f8af4"
      },
      "execution_count": null,
      "outputs": [
        {
          "output_type": "execute_result",
          "data": {
            "text/plain": [
              "{0: 'ants', 1: 'bees'}"
            ]
          },
          "metadata": {},
          "execution_count": 66
        }
      ]
    },
    {
      "cell_type": "code",
      "source": [
        "inv_label_map[argmax], inv_label_map[labels[2].item()]"
      ],
      "metadata": {
        "colab": {
          "base_uri": "https://localhost:8080/"
        },
        "id": "Srv9Ei1_x0R5",
        "outputId": "5b6e2370-3357-4df6-b0b6-0322dd506986"
      },
      "execution_count": null,
      "outputs": [
        {
          "output_type": "execute_result",
          "data": {
            "text/plain": [
              "('ants', 'ants')"
            ]
          },
          "metadata": {},
          "execution_count": 68
        }
      ]
    },
    {
      "cell_type": "code",
      "source": [
        "def predict(data, model, label_map, device, idx=0):\n",
        "  images, labels = data\n",
        "  img = images[idx]\n",
        "  label = labels[idx]\n",
        "\n",
        "  plt.imshow(img.permute(1,2,0), cmap=\"gray\")\n",
        "  img_on_gpu = img.unsqueeze(0).to(config.DEVICE)\n",
        "\n",
        "  pred_prob = F.softmax(model(img_on_gpu), dim=1)\n",
        "  argmax = torch.argmax(pred_prob).item()\n",
        "\n",
        "  predicted_label = label_map[argmax]\n",
        "  actual_label = label_map[label.item()]\n",
        "\n",
        "  plt.title(f\"actual: {actual_label} | predicted: {predicted_label}\")\n",
        "  plt.axis(\"off\")\n",
        "  return predicted_label, actual_label\n"
      ],
      "metadata": {
        "id": "6EtD_N3GyNld"
      },
      "execution_count": null,
      "outputs": []
    },
    {
      "cell_type": "code",
      "source": [
        "predict(data, model, inv_label_map, config.DEVICE, idx=2)"
      ],
      "metadata": {
        "colab": {
          "base_uri": "https://localhost:8080/",
          "height": 299
        },
        "id": "fPPw4h1ZykUw",
        "outputId": "6182cb63-2b73-4758-e15d-b5eac98b9f7e"
      },
      "execution_count": null,
      "outputs": [
        {
          "output_type": "stream",
          "name": "stderr",
          "text": [
            "Clipping input data to the valid range for imshow with RGB data ([0..1] for floats or [0..255] for integers).\n"
          ]
        },
        {
          "output_type": "execute_result",
          "data": {
            "text/plain": [
              "('ants', 'ants')"
            ]
          },
          "metadata": {},
          "execution_count": 74
        },
        {
          "output_type": "display_data",
          "data": {
            "text/plain": [
              "<Figure size 432x288 with 1 Axes>"
            ],
            "image/png": "[encoded data removed]"
          },
          "metadata": {
            "needs_background": "light"
          }
        }
      ]
    },
    {
      "cell_type": "code",
      "source": [
        "torch.argmax(torch.tensor([11, 12, 1451, 1351])).item()"
      ],
      "metadata": {
        "colab": {
          "base_uri": "https://localhost:8080/"
        },
        "id": "DyCz35XCyrQG",
        "outputId": "56b30a62-84e5-4acb-d168-548e9b83f26a"
      },
      "execution_count": null,
      "outputs": [
        {
          "output_type": "execute_result",
          "data": {
            "text/plain": [
              "2"
            ]
          },
          "metadata": {},
          "execution_count": 77
        }
      ]
    },
    {
      "cell_type": "code",
      "source": [],
      "metadata": {
        "id": "ei9LOxLezcba"
      },
      "execution_count": null,
      "outputs": []
    }
  ]
}